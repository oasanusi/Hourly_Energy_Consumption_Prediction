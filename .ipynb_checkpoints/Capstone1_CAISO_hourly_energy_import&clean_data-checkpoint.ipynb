{
 "cells": [
  {
   "cell_type": "code",
   "execution_count": 1,
   "metadata": {},
   "outputs": [],
   "source": [
    "import pandas as pd\n",
    "import numpy as np\n",
    "import matplotlib.pyplot as plt\n",
    "import seaborn as sns\n",
    "import requests\n",
    "import json\n",
    "from bs4 import BeautifulSoup\n",
    "from lxml import html\n",
    "from datetime import datetime, timedelta"
   ]
  },
  {
   "cell_type": "code",
   "execution_count": 2,
   "metadata": {},
   "outputs": [],
   "source": [
    "#Storing the data URLs; the first URL has the most recent data (2018-2019) and the archive URL has old data (2014-2017)\n",
    "url=\"http://www.caiso.com/planning/Pages/ReliabilityRequirements/Default.aspx\"\n",
    "#url_archive=\"http://www.caiso.com/planning/Pages/ReliabilityRequirements/ReliabilityRequirementsArchive.aspx\"\n",
    "url_archive=\"http://www.caiso.com/Pages/documentsbygroup.aspx?GroupID=8879C382-6EA8-4357-B752-D4F571388958\""
   ]
  },
  {
   "cell_type": "code",
   "execution_count": 3,
   "metadata": {},
   "outputs": [],
   "source": [
    "#Requesting the data and getting a response from both the URls\n",
    "r = requests.get(url)\n",
    "r_archive=requests.get(url_archive)"
   ]
  },
  {
   "cell_type": "code",
   "execution_count": 4,
   "metadata": {},
   "outputs": [],
   "source": [
    "#html_doc = r.text\n",
    "#soup = BeautifulSoup(html_doc)\n",
    "#print(soup.title)\n",
    "#a_tags=soup.find_all('a')\n",
    "#for link in a_tags:\n",
    "  #      print(link.get(//*[@id=\"NodeTempate\"]/a))\n",
    "#hourly_<a class=\"ISOTreeNodeTxt\" target=\"_blank\" href=\"/Documents/HistoricalEMSHourlyLoad-2018.xlsx\">Historical EMS Hourly Load for 2018</a>"
   ]
  },
  {
   "cell_type": "code",
   "execution_count": 5,
   "metadata": {},
   "outputs": [],
   "source": [
    "#getting the html content \n",
    "tree = html.fromstring(r.content)\n",
    "tree_archive=html.fromstring(r_archive.content)"
   ]
  },
  {
   "cell_type": "code",
   "execution_count": 6,
   "metadata": {},
   "outputs": [],
   "source": [
    "#Using xpath and web scrapping to get the exact location of the data files on the website by using inspect method on the site\n",
    "file=tree.xpath('//*[@id=\"NodeTempate\"]/a[@class=\"ISOTreeNodeTxt\"]//@href') \n",
    "file_archive=tree_archive.xpath('//*[@id=\"NodeTempate\"]/a[@class=\"ISOTreeNodeTxt\"]//@href') "
   ]
  },
  {
   "cell_type": "code",
   "execution_count": 7,
   "metadata": {},
   "outputs": [],
   "source": [
    "#file_archive # //*[@id=\"NodeTempate\"]/a  # //*[@id=\"NodeTempate\"]/a  //*[@id=\"NodeTempate\"]/span"
   ]
  },
  {
   "cell_type": "code",
   "execution_count": 8,
   "metadata": {},
   "outputs": [
    {
     "name": "stdout",
     "output_type": "stream",
     "text": [
      "/Documents/HistoricalEMSHourlyLoadforMarch2019.xlsx\n",
      "/Documents/HistoricalEMSHourlyLoadforFebruary2019.xlsx\n",
      "/Documents/HistoricalEMSHourlyLoadforJanuary2019.xlsx\n",
      "/Documents/HistoricalEMSHourlyLoad-2018.xlsx\n"
     ]
    }
   ],
   "source": [
    "#Checking if files were imported correctly; the hourly data is stored in all files starting with \"Historical...\"\n",
    "hourly_data=[]\n",
    "for doc in file:\n",
    "    if \"Historical\" in doc:\n",
    "        print(doc)\n",
    "        hourly_data.append(doc)\n",
    "        "
   ]
  },
  {
   "cell_type": "code",
   "execution_count": 9,
   "metadata": {},
   "outputs": [
    {
     "name": "stdout",
     "output_type": "stream",
     "text": [
      "/Documents/HistoricalEMSHourlyLoad-2014.xlsx\n",
      "/Documents/HistoricalEMSHourlyLoad-2015.xlsx\n",
      "/Documents/HistoricalEMSHourlyLoad-2016.xlsx\n",
      "/Documents/HistoricalEMSHourlyLoad-2017.xlsx\n"
     ]
    }
   ],
   "source": [
    "#Doing the same for archive files\n",
    "hourly_data_arch=[]\n",
    "for doc1 in file_archive:\n",
    "    if \"Historical\" in doc1:\n",
    "        print(doc1)\n",
    "        hourly_data_arch.append(doc1)\n"
   ]
  },
  {
   "cell_type": "code",
   "execution_count": null,
   "metadata": {},
   "outputs": [],
   "source": [
    "\n"
   ]
  },
  {
   "cell_type": "code",
   "execution_count": 10,
   "metadata": {},
   "outputs": [],
   "source": [
    "#reading in all the archive excel files into a dict: hourly_arch_dict with key names with respective years in it\n",
    "hourly_arch_dict={}\n",
    "for doc1 in file_archive:\n",
    "    if \"Historical\" in doc1:\n",
    "        hourly_arch_dict['hourly_load'+'_'+doc1.strip('.xlsx')[-4:]]=pd.read_excel('http://www.caiso.com'+doc1)\n",
    "        "
   ]
  },
  {
   "cell_type": "code",
   "execution_count": 11,
   "metadata": {},
   "outputs": [],
   "source": [
    "#adding in only the 2018 data from 'hourly_data' into the dict: hourly_arch_dict\n",
    "hourly_arch_dict['hourly_load_2018']=pd.read_excel('http://www.caiso.com'+hourly_data[3])"
   ]
  },
  {
   "cell_type": "code",
   "execution_count": 12,
   "metadata": {},
   "outputs": [
    {
     "data": {
      "text/plain": [
       "dict_keys(['hourly_load_2014', 'hourly_load_2015', 'hourly_load_2016', 'hourly_load_2017', 'hourly_load_2018'])"
      ]
     },
     "execution_count": 12,
     "metadata": {},
     "output_type": "execute_result"
    }
   ],
   "source": [
    "#Checking the dict if the keys were named correctly\n",
    "hourly_arch_dict.keys()"
   ]
  },
  {
   "cell_type": "code",
   "execution_count": 13,
   "metadata": {},
   "outputs": [],
   "source": [
    "#hourly_2014=pd.DataFrame(hourly_arch_dict['hourly_load_2014'])\n",
    "#hourly_2015=pd.DataFrame(hourly_arch_dict['hourly_load_2015'])\n",
    "#hourly_2016=pd.DataFrame(hourly_arch_dict['hourly_load_2016'])\n",
    "#hourly_2017=pd.DataFrame(hourly_arch_dict['hourly_load_2017'])"
   ]
  },
  {
   "cell_type": "code",
   "execution_count": 14,
   "metadata": {},
   "outputs": [
    {
     "name": "stdout",
     "output_type": "stream",
     "text": [
      "\n",
      "head of hourly_load_2014\n",
      "\n",
      "                Dates       Date  HE    PGE   SCE  SDGE  VEA  CAISO Total\n",
      "0 2014-01-01 00:00:00 2014-01-01   1  10057  9862  2096   58        22073\n",
      "1 2014-01-01 01:00:00 2014-01-01   2   9707  9530  1986   59        21283\n",
      "2 2014-01-01 02:00:00 2014-01-01   3   9438  9200  1936   61        20635\n",
      "3 2014-01-01 03:00:00 2014-01-01   4   9309  9015  1896   64        20283\n",
      "4 2014-01-01 04:00:00 2014-01-01   5   9319  8987  1899   67        20271\n",
      "\n",
      "head of hourly_load_2015\n",
      "\n",
      "                Dates       Date  HE    PGE    SCE  SDGE  VEA  CAISO Total\n",
      "0 2015-01-01 00:00:00 2015-01-01   1  10524  10622  2296   87        23529\n",
      "1 2015-01-01 01:00:00 2015-01-01   2  10199  10238  2182   87        22706\n",
      "2 2015-01-01 02:00:00 2015-01-01   3   9922   9927  2100   88        22037\n",
      "3 2015-01-01 03:00:00 2015-01-01   4   9779   9758  2059   91        21687\n",
      "4 2015-01-01 04:00:00 2015-01-01   5   9783   9759  2063   95        21700\n",
      "\n",
      "head of hourly_load_2016\n",
      "\n",
      "                Dates       Date  HE    PGE    SCE  SDGE  VEA  CAISO Total\n",
      "0 2016-01-01 00:00:00 2016-01-01   1  10554  10543  2176   98        23370\n",
      "1 2016-01-01 01:00:00 2016-01-01   2  10210  10215  2073   99        22598\n",
      "2 2016-01-01 02:00:00 2016-01-01   3   9941   9954  2009  101        22005\n",
      "3 2016-01-01 03:00:00 2016-01-01   4   9793   9815  1980  105        21692\n",
      "4 2016-01-01 04:00:00 2016-01-01   5   9802   9822  1991  108        21724\n",
      "\n",
      "head of hourly_load_2017\n",
      "\n",
      "                    Dates       Date                      HE      PGE  \\\n",
      "0 2017-01-01 00:59:59.992 2017-01-01 2017-01-01 00:59:59.992  10401.3   \n",
      "1 2017-01-01 01:59:59.992 2017-01-01 2017-01-01 01:59:59.992  9977.51   \n",
      "2 2017-01-01 02:59:59.992 2017-01-01 2017-01-01 02:59:59.992  9650.52   \n",
      "3 2017-01-01 03:59:59.992 2017-01-01 2017-01-01 03:59:59.992  9435.63   \n",
      "4 2017-01-01 04:59:59.992 2017-01-01 2017-01-01 04:59:59.992  9365.32   \n",
      "\n",
      "       SCE     SDGE      VEA CAISO Total  \n",
      "0  9813.18  2022.04  67.0845     22303.6  \n",
      "1  9360.71   1917.5  67.5234     21323.2  \n",
      "2  9036.56  1845.22   67.353     20599.7  \n",
      "3  8810.69  1797.89   67.422     20111.6  \n",
      "4  8767.97  1788.48  70.1445     19991.9  \n",
      "\n",
      "head of hourly_load_2018\n",
      "\n",
      "                Dates       Date  HE          PGE          SCE         SDGE  \\\n",
      "0 2018-01-01 00:00:00 2018-01-01   0  9577.460722  9457.930894  2020.884747   \n",
      "1 2018-01-01 01:00:00 2018-01-01   1  9448.628231  9086.318907  1920.035651   \n",
      "2 2018-01-01 02:00:00 2018-01-01   2  9260.239499  8795.615734  1848.166301   \n",
      "3 2018-01-01 03:00:00 2018-01-01   3  9108.429730  8619.310631  1811.712796   \n",
      "4 2018-01-01 04:00:00 2018-01-01   4  9125.853902  8608.488667  1819.887877   \n",
      "\n",
      "         VEA   CAISO Total  \n",
      "0  72.305666  21128.582029  \n",
      "1  74.157034  20529.139823  \n",
      "2  76.855463  19980.876996  \n",
      "3  79.176253  19618.629410  \n",
      "4  83.961808  19638.192254  \n"
     ]
    }
   ],
   "source": [
    "#Checking the head of the data for each year\n",
    "for keys, items in hourly_arch_dict.items():\n",
    "    print(\"\\nhead of \"+keys+\"\\n\")\n",
    "    print(items.head())"
   ]
  },
  {
   "cell_type": "code",
   "execution_count": 15,
   "metadata": {},
   "outputs": [
    {
     "name": "stdout",
     "output_type": "stream",
     "text": [
      "\n",
      "tail of hourly_load_2014\n",
      "\n",
      "                   Dates       Date  HE    PGE    SCE  SDGE  VEA  CAISO Total\n",
      "8755 2014-12-31 19:00:00 2014-12-31  20  12837  13016  3017   93        28963\n",
      "8756 2014-12-31 20:00:00 2014-12-31  21  12311  12584  2890   93        27878\n",
      "8757 2014-12-31 21:00:00 2014-12-31  22  11808  12028  2750   91        26677\n",
      "8758 2014-12-31 22:00:00 2014-12-31  23  11319  11541  2594   90        25544\n",
      "8759 2014-12-31 23:00:00 2014-12-31  24  10824  11081  2436   88        24429\n",
      "\n",
      "tail of hourly_load_2015\n",
      "\n",
      "                   Dates       Date  HE    PGE    SCE  SDGE  VEA  CAISO Total\n",
      "8755 2015-12-31 19:00:00 2015-12-31  20  12731  12333  2840   94        27998\n",
      "8756 2015-12-31 20:00:00 2015-12-31  21  12260  11949  2728   97        27033\n",
      "8757 2015-12-31 21:00:00 2015-12-31  22  11759  11514  2598   97        25967\n",
      "8758 2015-12-31 22:00:00 2015-12-31  23  11184  11131  2448   96        24859\n",
      "8759 2015-12-31 23:00:00 2015-12-31  24  10885  10751  2302   97        24035\n",
      "\n",
      "tail of hourly_load_2016\n",
      "\n",
      "                   Dates       Date  HE    PGE    SCE  SDGE  VEA  CAISO Total\n",
      "8779 2016-12-31 19:00:00 2016-12-31  20  12231  11909  2672   72        26884\n",
      "8780 2016-12-31 20:00:00 2016-12-31  21  11831  11524  2554   71        25980\n",
      "8781 2016-12-31 21:00:00 2016-12-31  22  11414  11094  2405   70        24982\n",
      "8782 2016-12-31 22:00:00 2016-12-31  23  11147  10667  2270   67        24152\n",
      "8783 2016-12-31 23:00:00 2016-12-31  24  10872  10249  2144   66        23332\n",
      "\n",
      "tail of hourly_load_2017\n",
      "\n",
      "                       Dates       Date                      HE      PGE  \\\n",
      "8755 2017-12-31 19:59:59.990 2017-12-31 2017-12-31 19:59:59.990  11638.2   \n",
      "8756 2017-12-31 20:59:59.990 2017-12-31 2017-12-31 20:59:59.990  11240.8   \n",
      "8757 2017-12-31 21:59:59.990 2017-12-31 2017-12-31 21:59:59.990  10846.2   \n",
      "8758 2017-12-31 22:59:59.990 2017-12-31 2017-12-31 22:59:59.990  10499.5   \n",
      "8759 2017-12-31 23:59:59.990 2017-12-31 2017-12-31 23:59:59.990  10023.1   \n",
      "\n",
      "          SCE     SDGE      VEA CAISO Total  \n",
      "8755  11618.3  2609.69  66.7765       25933  \n",
      "8756  11300.7  2504.28   68.303     25114.1  \n",
      "8757  10917.3  2389.46  69.8133     24222.8  \n",
      "8758  10421.1  2259.74  70.1344     23250.4  \n",
      "8759  9957.15  2123.18  71.2226     22174.6  \n",
      "\n",
      "tail of hourly_load_2018\n",
      "\n",
      "                       Dates       Date  HE           PGE           SCE  \\\n",
      "8755 2017-12-31 19:59:59.990 2017-12-31  20  11638.162780  11618.349802   \n",
      "8756 2017-12-31 20:59:59.990 2017-12-31  21  11240.842142  11300.678211   \n",
      "8757 2017-12-31 21:59:59.990 2017-12-31  22  10846.176249  10917.331020   \n",
      "8758 2017-12-31 22:59:59.990 2017-12-31  23  10499.475128  10421.094713   \n",
      "8759 2017-12-31 23:59:59.990 2017-12-31   0  10023.052203   9957.145479   \n",
      "\n",
      "             SDGE        VEA   CAISO Total  \n",
      "8755  2609.685890  66.776465  25932.974920  \n",
      "8756  2504.283858  68.302991  25114.107780  \n",
      "8757  2389.460971  69.813262  24222.781860  \n",
      "8758  2259.741640  70.134432  23250.445733  \n",
      "8759  2123.183153  71.222568  22174.603618  \n"
     ]
    }
   ],
   "source": [
    "#Checking the tail of the data for each year\n",
    "for keys, items in hourly_arch_dict.items():\n",
    "    print(\"\\ntail of \"+keys+\"\\n\")\n",
    "    print(items.tail())"
   ]
  },
  {
   "cell_type": "code",
   "execution_count": 16,
   "metadata": {},
   "outputs": [
    {
     "name": "stdout",
     "output_type": "stream",
     "text": [
      "\n",
      "hourly_load_2014\n",
      "\n",
      "       Dates  Date    HE   PGE   SCE  SDGE   VEA  CAISO Total\n",
      "Dates                                                        \n",
      "2014    8760  8760  8760  8760  8760  8760  8760         8760\n",
      "\n",
      "hourly_load_2015\n",
      "\n",
      "       Dates  Date    HE   PGE   SCE  SDGE   VEA  CAISO Total\n",
      "Dates                                                        \n",
      "2015    8760  8760  8760  8760  8760  8760  8760         8760\n",
      "\n",
      "hourly_load_2016\n",
      "\n",
      "       Dates  Date    HE   PGE   SCE  SDGE   VEA  CAISO Total\n",
      "Dates                                                        \n",
      "2016    8784  8784  8784  8784  8784  8784  8784         8784\n",
      "\n",
      "hourly_load_2017\n",
      "\n",
      "       Dates  Date    HE   PGE   SCE  SDGE   VEA  CAISO Total\n",
      "Dates                                                        \n",
      "2017    8760  8760  8760  8760  8760  8760  8760         8760\n",
      "\n",
      "hourly_load_2018\n",
      "\n",
      "       Dates  Date    HE   PGE   SCE  SDGE   VEA  CAISO Total\n",
      "Dates                                                        \n",
      "2017      24    24    24    24    24    24    24           24\n",
      "2018    8736  8736  8736  8736  8736  8736  8736         8736\n"
     ]
    }
   ],
   "source": [
    "\"\"\"1. It can be seen that the Dates column of 2017 and 2018 are a bit different than the other years' Dates column \n",
    "and also the HE column, which gives the hour of the day (looking at the data), lists the entire datetime in 2017 and also\n",
    "the HE column numbering for 2018 differs from the numbering of HE column from 2014 to 2017 years. \n",
    "2. Also, the last few entries in the Dates column of the year 2018 have 2017 as the year instead of 2018.  \n",
    "3. Checking the number of rows in each year; ideally they should be 8760 for each year except 2016 because it was a leap year\n",
    "so the number of rows in 2014,2015,2017 and 2018 should be 8760 each and that in 2016 should be 8784.\"\"\"\n",
    "for keys, items in hourly_arch_dict.items():\n",
    "    print(\"\\n\"+keys+\"\\n\")\n",
    "    print(items.groupby(items['Dates'].dt.year).count())"
   ]
  },
  {
   "cell_type": "code",
   "execution_count": 17,
   "metadata": {},
   "outputs": [
    {
     "name": "stderr",
     "output_type": "stream",
     "text": [
      "C:\\Users\\ppawar\\AppData\\Local\\Continuum\\anaconda3\\lib\\site-packages\\pandas\\core\\arrays\\datetimes.py:743: PerformanceWarning: Non-vectorized DateOffset being applied to Series or DatetimeIndex\n",
      "  \"or DatetimeIndex\", PerformanceWarning)\n"
     ]
    }
   ],
   "source": [
    "\"\"\"It looks like the data in 2018 has some 24 rows labeled as 2017. The plausible explanation to this is that\n",
    "somewhere in the data, 24 hours  of year 2018 (after looking at the tail we can see that these are the last 24 hours of the \n",
    "year, 31st Dec) weren't recorded and the data from 2017 was used to fill in the missing values. This left the Dates column\n",
    "with the 2017 instead of 2018. Let's replace any 2017 value in the 'Dates' column of the 2018 data with 2018.\"\"\"\n",
    "\n",
    "hourly_arch_dict['hourly_load_2018']['Dates']=hourly_arch_dict['hourly_load_2018']['Dates']. \\\n",
    "            mask(hourly_arch_dict['hourly_load_2018']['Dates'].dt.year!=2018, \\\n",
    "            hourly_arch_dict['hourly_load_2018']['Dates'] + pd.offsets.DateOffset(year=2018))\n",
    "# could have used 'list(hourly_arch_dict.keys())[4][-4:]' instead of 2018 to avoid hardcoding and can apply this as a \n",
    "#general check on all the dataframes when importing the data itself"
   ]
  },
  {
   "cell_type": "code",
   "execution_count": 18,
   "metadata": {},
   "outputs": [
    {
     "data": {
      "text/html": [
       "<div>\n",
       "<style scoped>\n",
       "    .dataframe tbody tr th:only-of-type {\n",
       "        vertical-align: middle;\n",
       "    }\n",
       "\n",
       "    .dataframe tbody tr th {\n",
       "        vertical-align: top;\n",
       "    }\n",
       "\n",
       "    .dataframe thead th {\n",
       "        text-align: right;\n",
       "    }\n",
       "</style>\n",
       "<table border=\"1\" class=\"dataframe\">\n",
       "  <thead>\n",
       "    <tr style=\"text-align: right;\">\n",
       "      <th></th>\n",
       "      <th>Dates</th>\n",
       "      <th>Date</th>\n",
       "      <th>HE</th>\n",
       "      <th>PGE</th>\n",
       "      <th>SCE</th>\n",
       "      <th>SDGE</th>\n",
       "      <th>VEA</th>\n",
       "      <th>CAISO Total</th>\n",
       "    </tr>\n",
       "    <tr>\n",
       "      <th>Dates</th>\n",
       "      <th></th>\n",
       "      <th></th>\n",
       "      <th></th>\n",
       "      <th></th>\n",
       "      <th></th>\n",
       "      <th></th>\n",
       "      <th></th>\n",
       "      <th></th>\n",
       "    </tr>\n",
       "  </thead>\n",
       "  <tbody>\n",
       "    <tr>\n",
       "      <th>2018</th>\n",
       "      <td>8760</td>\n",
       "      <td>8760</td>\n",
       "      <td>8760</td>\n",
       "      <td>8760</td>\n",
       "      <td>8760</td>\n",
       "      <td>8760</td>\n",
       "      <td>8760</td>\n",
       "      <td>8760</td>\n",
       "    </tr>\n",
       "  </tbody>\n",
       "</table>\n",
       "</div>"
      ],
      "text/plain": [
       "       Dates  Date    HE   PGE   SCE  SDGE   VEA  CAISO Total\n",
       "Dates                                                        \n",
       "2018    8760  8760  8760  8760  8760  8760  8760         8760"
      ]
     },
     "execution_count": 18,
     "metadata": {},
     "output_type": "execute_result"
    }
   ],
   "source": [
    "#Checking if the 2018 data has all 2018s now\n",
    "hourly_arch_dict['hourly_load_2018'].groupby(hourly_arch_dict['hourly_load_2018']['Dates'].dt.year).count()"
   ]
  },
  {
   "cell_type": "code",
   "execution_count": 19,
   "metadata": {},
   "outputs": [],
   "source": [
    "\"\"\"Let's concatenate the data into a single dataframe and then clean it to solve the above issues.\"\"\"\n",
    "hourly1418=pd.concat(hourly_arch_dict, axis='rows', ignore_index=True)\n"
   ]
  },
  {
   "cell_type": "code",
   "execution_count": 20,
   "metadata": {},
   "outputs": [
    {
     "data": {
      "text/html": [
       "<div>\n",
       "<style scoped>\n",
       "    .dataframe tbody tr th:only-of-type {\n",
       "        vertical-align: middle;\n",
       "    }\n",
       "\n",
       "    .dataframe tbody tr th {\n",
       "        vertical-align: top;\n",
       "    }\n",
       "\n",
       "    .dataframe thead th {\n",
       "        text-align: right;\n",
       "    }\n",
       "</style>\n",
       "<table border=\"1\" class=\"dataframe\">\n",
       "  <thead>\n",
       "    <tr style=\"text-align: right;\">\n",
       "      <th></th>\n",
       "      <th>Dates</th>\n",
       "      <th>Date</th>\n",
       "      <th>HE</th>\n",
       "      <th>PGE</th>\n",
       "      <th>SCE</th>\n",
       "      <th>SDGE</th>\n",
       "      <th>VEA</th>\n",
       "      <th>CAISO Total</th>\n",
       "    </tr>\n",
       "  </thead>\n",
       "  <tbody>\n",
       "    <tr>\n",
       "      <th>0</th>\n",
       "      <td>2014-01-01 00:00:00</td>\n",
       "      <td>2014-01-01</td>\n",
       "      <td>1</td>\n",
       "      <td>10057</td>\n",
       "      <td>9862</td>\n",
       "      <td>2096</td>\n",
       "      <td>58</td>\n",
       "      <td>22073</td>\n",
       "    </tr>\n",
       "    <tr>\n",
       "      <th>1</th>\n",
       "      <td>2014-01-01 01:00:00</td>\n",
       "      <td>2014-01-01</td>\n",
       "      <td>2</td>\n",
       "      <td>9707</td>\n",
       "      <td>9530</td>\n",
       "      <td>1986</td>\n",
       "      <td>59</td>\n",
       "      <td>21283</td>\n",
       "    </tr>\n",
       "    <tr>\n",
       "      <th>2</th>\n",
       "      <td>2014-01-01 02:00:00</td>\n",
       "      <td>2014-01-01</td>\n",
       "      <td>3</td>\n",
       "      <td>9438</td>\n",
       "      <td>9200</td>\n",
       "      <td>1936</td>\n",
       "      <td>61</td>\n",
       "      <td>20635</td>\n",
       "    </tr>\n",
       "    <tr>\n",
       "      <th>3</th>\n",
       "      <td>2014-01-01 03:00:00</td>\n",
       "      <td>2014-01-01</td>\n",
       "      <td>4</td>\n",
       "      <td>9309</td>\n",
       "      <td>9015</td>\n",
       "      <td>1896</td>\n",
       "      <td>64</td>\n",
       "      <td>20283</td>\n",
       "    </tr>\n",
       "    <tr>\n",
       "      <th>4</th>\n",
       "      <td>2014-01-01 04:00:00</td>\n",
       "      <td>2014-01-01</td>\n",
       "      <td>5</td>\n",
       "      <td>9319</td>\n",
       "      <td>8987</td>\n",
       "      <td>1899</td>\n",
       "      <td>67</td>\n",
       "      <td>20271</td>\n",
       "    </tr>\n",
       "  </tbody>\n",
       "</table>\n",
       "</div>"
      ],
      "text/plain": [
       "                Dates       Date HE    PGE   SCE  SDGE VEA CAISO Total\n",
       "0 2014-01-01 00:00:00 2014-01-01  1  10057  9862  2096  58       22073\n",
       "1 2014-01-01 01:00:00 2014-01-01  2   9707  9530  1986  59       21283\n",
       "2 2014-01-01 02:00:00 2014-01-01  3   9438  9200  1936  61       20635\n",
       "3 2014-01-01 03:00:00 2014-01-01  4   9309  9015  1896  64       20283\n",
       "4 2014-01-01 04:00:00 2014-01-01  5   9319  8987  1899  67       20271"
      ]
     },
     "execution_count": 20,
     "metadata": {},
     "output_type": "execute_result"
    }
   ],
   "source": [
    "hourly1418.head()"
   ]
  },
  {
   "cell_type": "code",
   "execution_count": 21,
   "metadata": {},
   "outputs": [
    {
     "data": {
      "text/html": [
       "<div>\n",
       "<style scoped>\n",
       "    .dataframe tbody tr th:only-of-type {\n",
       "        vertical-align: middle;\n",
       "    }\n",
       "\n",
       "    .dataframe tbody tr th {\n",
       "        vertical-align: top;\n",
       "    }\n",
       "\n",
       "    .dataframe thead th {\n",
       "        text-align: right;\n",
       "    }\n",
       "</style>\n",
       "<table border=\"1\" class=\"dataframe\">\n",
       "  <thead>\n",
       "    <tr style=\"text-align: right;\">\n",
       "      <th></th>\n",
       "      <th>Dates</th>\n",
       "      <th>Date</th>\n",
       "      <th>HE</th>\n",
       "      <th>PGE</th>\n",
       "      <th>SCE</th>\n",
       "      <th>SDGE</th>\n",
       "      <th>VEA</th>\n",
       "      <th>CAISO Total</th>\n",
       "    </tr>\n",
       "  </thead>\n",
       "  <tbody>\n",
       "    <tr>\n",
       "      <th>43819</th>\n",
       "      <td>2018-12-31 19:59:59.990</td>\n",
       "      <td>2017-12-31</td>\n",
       "      <td>20</td>\n",
       "      <td>11638.2</td>\n",
       "      <td>11618.3</td>\n",
       "      <td>2609.69</td>\n",
       "      <td>66.7765</td>\n",
       "      <td>25933</td>\n",
       "    </tr>\n",
       "    <tr>\n",
       "      <th>43820</th>\n",
       "      <td>2018-12-31 20:59:59.990</td>\n",
       "      <td>2017-12-31</td>\n",
       "      <td>21</td>\n",
       "      <td>11240.8</td>\n",
       "      <td>11300.7</td>\n",
       "      <td>2504.28</td>\n",
       "      <td>68.303</td>\n",
       "      <td>25114.1</td>\n",
       "    </tr>\n",
       "    <tr>\n",
       "      <th>43821</th>\n",
       "      <td>2018-12-31 21:59:59.990</td>\n",
       "      <td>2017-12-31</td>\n",
       "      <td>22</td>\n",
       "      <td>10846.2</td>\n",
       "      <td>10917.3</td>\n",
       "      <td>2389.46</td>\n",
       "      <td>69.8133</td>\n",
       "      <td>24222.8</td>\n",
       "    </tr>\n",
       "    <tr>\n",
       "      <th>43822</th>\n",
       "      <td>2018-12-31 22:59:59.990</td>\n",
       "      <td>2017-12-31</td>\n",
       "      <td>23</td>\n",
       "      <td>10499.5</td>\n",
       "      <td>10421.1</td>\n",
       "      <td>2259.74</td>\n",
       "      <td>70.1344</td>\n",
       "      <td>23250.4</td>\n",
       "    </tr>\n",
       "    <tr>\n",
       "      <th>43823</th>\n",
       "      <td>2018-12-31 23:59:59.990</td>\n",
       "      <td>2017-12-31</td>\n",
       "      <td>0</td>\n",
       "      <td>10023.1</td>\n",
       "      <td>9957.15</td>\n",
       "      <td>2123.18</td>\n",
       "      <td>71.2226</td>\n",
       "      <td>22174.6</td>\n",
       "    </tr>\n",
       "  </tbody>\n",
       "</table>\n",
       "</div>"
      ],
      "text/plain": [
       "                        Dates       Date  HE      PGE      SCE     SDGE  \\\n",
       "43819 2018-12-31 19:59:59.990 2017-12-31  20  11638.2  11618.3  2609.69   \n",
       "43820 2018-12-31 20:59:59.990 2017-12-31  21  11240.8  11300.7  2504.28   \n",
       "43821 2018-12-31 21:59:59.990 2017-12-31  22  10846.2  10917.3  2389.46   \n",
       "43822 2018-12-31 22:59:59.990 2017-12-31  23  10499.5  10421.1  2259.74   \n",
       "43823 2018-12-31 23:59:59.990 2017-12-31   0  10023.1  9957.15  2123.18   \n",
       "\n",
       "           VEA CAISO Total  \n",
       "43819  66.7765       25933  \n",
       "43820   68.303     25114.1  \n",
       "43821  69.8133     24222.8  \n",
       "43822  70.1344     23250.4  \n",
       "43823  71.2226     22174.6  "
      ]
     },
     "execution_count": 21,
     "metadata": {},
     "output_type": "execute_result"
    }
   ],
   "source": [
    "hourly1418.tail()"
   ]
  },
  {
   "cell_type": "code",
   "execution_count": 22,
   "metadata": {},
   "outputs": [
    {
     "name": "stdout",
     "output_type": "stream",
     "text": [
      "<class 'pandas.core.frame.DataFrame'>\n",
      "RangeIndex: 43824 entries, 0 to 43823\n",
      "Data columns (total 8 columns):\n",
      "Dates          43824 non-null datetime64[ns]\n",
      "Date           43824 non-null datetime64[ns]\n",
      "HE             43824 non-null object\n",
      "PGE            43824 non-null object\n",
      "SCE            43824 non-null object\n",
      "SDGE           43824 non-null object\n",
      "VEA            43824 non-null object\n",
      "CAISO Total    43824 non-null object\n",
      "dtypes: datetime64[ns](2), object(6)\n",
      "memory usage: 2.7+ MB\n"
     ]
    }
   ],
   "source": [
    "hourly1418.info()"
   ]
  },
  {
   "cell_type": "code",
   "execution_count": 23,
   "metadata": {},
   "outputs": [
    {
     "data": {
      "text/plain": [
       "\"1. The 'Dates' column is already in datetime format, so we can directly use the Datetime operation on the column\\n2. But the other values, except HE, are energy consumption values which should be in float or int format. We'll need to\\n   convert these columns to numeric datatype. \""
      ]
     },
     "execution_count": 23,
     "metadata": {},
     "output_type": "execute_result"
    }
   ],
   "source": [
    "\"\"\"1. The 'Dates' column is already in datetime format, so we can directly use the Datetime operation on the column\n",
    "2. But the other values, except HE, are energy consumption values which should be in float or int format. We'll need to\n",
    "   convert these columns to numeric datatype. \"\"\""
   ]
  },
  {
   "cell_type": "code",
   "execution_count": 24,
   "metadata": {},
   "outputs": [],
   "source": [
    "#Converting all the rows in 'Dates' column data which are in the format'201x-xx-xx yy:59:59.992' to '201x-xx-xx yy:00:00'\n",
    "#by using dt.floor\n",
    "hourly1418['Dates']=hourly1418['Dates'].dt.floor('H')"
   ]
  },
  {
   "cell_type": "code",
   "execution_count": 25,
   "metadata": {},
   "outputs": [
    {
     "data": {
      "text/html": [
       "<div>\n",
       "<style scoped>\n",
       "    .dataframe tbody tr th:only-of-type {\n",
       "        vertical-align: middle;\n",
       "    }\n",
       "\n",
       "    .dataframe tbody tr th {\n",
       "        vertical-align: top;\n",
       "    }\n",
       "\n",
       "    .dataframe thead th {\n",
       "        text-align: right;\n",
       "    }\n",
       "</style>\n",
       "<table border=\"1\" class=\"dataframe\">\n",
       "  <thead>\n",
       "    <tr style=\"text-align: right;\">\n",
       "      <th></th>\n",
       "      <th>Dates</th>\n",
       "      <th>Date</th>\n",
       "      <th>HE</th>\n",
       "      <th>PGE</th>\n",
       "      <th>SCE</th>\n",
       "      <th>SDGE</th>\n",
       "      <th>VEA</th>\n",
       "      <th>CAISO Total</th>\n",
       "    </tr>\n",
       "  </thead>\n",
       "  <tbody>\n",
       "    <tr>\n",
       "      <th>35059</th>\n",
       "      <td>2017-12-31 19:00:00</td>\n",
       "      <td>2017-12-31</td>\n",
       "      <td>2017-12-31 19:59:59.990000</td>\n",
       "      <td>11638.2</td>\n",
       "      <td>11618.3</td>\n",
       "      <td>2609.69</td>\n",
       "      <td>66.7765</td>\n",
       "      <td>25933</td>\n",
       "    </tr>\n",
       "    <tr>\n",
       "      <th>35060</th>\n",
       "      <td>2017-12-31 20:00:00</td>\n",
       "      <td>2017-12-31</td>\n",
       "      <td>2017-12-31 20:59:59.990000</td>\n",
       "      <td>11240.8</td>\n",
       "      <td>11300.7</td>\n",
       "      <td>2504.28</td>\n",
       "      <td>68.303</td>\n",
       "      <td>25114.1</td>\n",
       "    </tr>\n",
       "    <tr>\n",
       "      <th>35061</th>\n",
       "      <td>2017-12-31 21:00:00</td>\n",
       "      <td>2017-12-31</td>\n",
       "      <td>2017-12-31 21:59:59.990000</td>\n",
       "      <td>10846.2</td>\n",
       "      <td>10917.3</td>\n",
       "      <td>2389.46</td>\n",
       "      <td>69.8133</td>\n",
       "      <td>24222.8</td>\n",
       "    </tr>\n",
       "    <tr>\n",
       "      <th>35062</th>\n",
       "      <td>2017-12-31 22:00:00</td>\n",
       "      <td>2017-12-31</td>\n",
       "      <td>2017-12-31 22:59:59.990000</td>\n",
       "      <td>10499.5</td>\n",
       "      <td>10421.1</td>\n",
       "      <td>2259.74</td>\n",
       "      <td>70.1344</td>\n",
       "      <td>23250.4</td>\n",
       "    </tr>\n",
       "    <tr>\n",
       "      <th>35063</th>\n",
       "      <td>2017-12-31 23:00:00</td>\n",
       "      <td>2017-12-31</td>\n",
       "      <td>2017-12-31 23:59:59.990000</td>\n",
       "      <td>10023.1</td>\n",
       "      <td>9957.15</td>\n",
       "      <td>2123.18</td>\n",
       "      <td>71.2226</td>\n",
       "      <td>22174.6</td>\n",
       "    </tr>\n",
       "  </tbody>\n",
       "</table>\n",
       "</div>"
      ],
      "text/plain": [
       "                    Dates       Date                          HE      PGE  \\\n",
       "35059 2017-12-31 19:00:00 2017-12-31  2017-12-31 19:59:59.990000  11638.2   \n",
       "35060 2017-12-31 20:00:00 2017-12-31  2017-12-31 20:59:59.990000  11240.8   \n",
       "35061 2017-12-31 21:00:00 2017-12-31  2017-12-31 21:59:59.990000  10846.2   \n",
       "35062 2017-12-31 22:00:00 2017-12-31  2017-12-31 22:59:59.990000  10499.5   \n",
       "35063 2017-12-31 23:00:00 2017-12-31  2017-12-31 23:59:59.990000  10023.1   \n",
       "\n",
       "           SCE     SDGE      VEA CAISO Total  \n",
       "35059  11618.3  2609.69  66.7765       25933  \n",
       "35060  11300.7  2504.28   68.303     25114.1  \n",
       "35061  10917.3  2389.46  69.8133     24222.8  \n",
       "35062  10421.1  2259.74  70.1344     23250.4  \n",
       "35063  9957.15  2123.18  71.2226     22174.6  "
      ]
     },
     "execution_count": 25,
     "metadata": {},
     "output_type": "execute_result"
    }
   ],
   "source": [
    "#verifying if the Dates got in the uniform format of 201x-xx-xx yy:00:00; the error was in 2017 data so checking that'\n",
    "hourly1418[hourly1418['Dates'].dt.year==2017].tail()"
   ]
  },
  {
   "cell_type": "code",
   "execution_count": 26,
   "metadata": {},
   "outputs": [
    {
     "data": {
      "text/html": [
       "<div>\n",
       "<style scoped>\n",
       "    .dataframe tbody tr th:only-of-type {\n",
       "        vertical-align: middle;\n",
       "    }\n",
       "\n",
       "    .dataframe tbody tr th {\n",
       "        vertical-align: top;\n",
       "    }\n",
       "\n",
       "    .dataframe thead th {\n",
       "        text-align: right;\n",
       "    }\n",
       "</style>\n",
       "<table border=\"1\" class=\"dataframe\">\n",
       "  <thead>\n",
       "    <tr style=\"text-align: right;\">\n",
       "      <th></th>\n",
       "      <th>Dates</th>\n",
       "      <th>Date</th>\n",
       "      <th>HE</th>\n",
       "      <th>PGE</th>\n",
       "      <th>SCE</th>\n",
       "      <th>SDGE</th>\n",
       "      <th>VEA</th>\n",
       "      <th>CAISO Total</th>\n",
       "    </tr>\n",
       "    <tr>\n",
       "      <th>Dates</th>\n",
       "      <th></th>\n",
       "      <th></th>\n",
       "      <th></th>\n",
       "      <th></th>\n",
       "      <th></th>\n",
       "      <th></th>\n",
       "      <th></th>\n",
       "      <th></th>\n",
       "    </tr>\n",
       "  </thead>\n",
       "  <tbody>\n",
       "    <tr>\n",
       "      <th>2014</th>\n",
       "      <td>8760</td>\n",
       "      <td>8760</td>\n",
       "      <td>8760</td>\n",
       "      <td>8760</td>\n",
       "      <td>8760</td>\n",
       "      <td>8760</td>\n",
       "      <td>8760</td>\n",
       "      <td>8760</td>\n",
       "    </tr>\n",
       "    <tr>\n",
       "      <th>2015</th>\n",
       "      <td>8760</td>\n",
       "      <td>8760</td>\n",
       "      <td>8760</td>\n",
       "      <td>8760</td>\n",
       "      <td>8760</td>\n",
       "      <td>8760</td>\n",
       "      <td>8760</td>\n",
       "      <td>8760</td>\n",
       "    </tr>\n",
       "    <tr>\n",
       "      <th>2016</th>\n",
       "      <td>8784</td>\n",
       "      <td>8784</td>\n",
       "      <td>8784</td>\n",
       "      <td>8784</td>\n",
       "      <td>8784</td>\n",
       "      <td>8784</td>\n",
       "      <td>8784</td>\n",
       "      <td>8784</td>\n",
       "    </tr>\n",
       "    <tr>\n",
       "      <th>2017</th>\n",
       "      <td>8760</td>\n",
       "      <td>8760</td>\n",
       "      <td>8760</td>\n",
       "      <td>8760</td>\n",
       "      <td>8760</td>\n",
       "      <td>8760</td>\n",
       "      <td>8760</td>\n",
       "      <td>8760</td>\n",
       "    </tr>\n",
       "    <tr>\n",
       "      <th>2018</th>\n",
       "      <td>8760</td>\n",
       "      <td>8760</td>\n",
       "      <td>8760</td>\n",
       "      <td>8760</td>\n",
       "      <td>8760</td>\n",
       "      <td>8760</td>\n",
       "      <td>8760</td>\n",
       "      <td>8760</td>\n",
       "    </tr>\n",
       "  </tbody>\n",
       "</table>\n",
       "</div>"
      ],
      "text/plain": [
       "       Dates  Date    HE   PGE   SCE  SDGE   VEA  CAISO Total\n",
       "Dates                                                        \n",
       "2014    8760  8760  8760  8760  8760  8760  8760         8760\n",
       "2015    8760  8760  8760  8760  8760  8760  8760         8760\n",
       "2016    8784  8784  8784  8784  8784  8784  8784         8784\n",
       "2017    8760  8760  8760  8760  8760  8760  8760         8760\n",
       "2018    8760  8760  8760  8760  8760  8760  8760         8760"
      ]
     },
     "execution_count": 26,
     "metadata": {},
     "output_type": "execute_result"
    }
   ],
   "source": [
    "#Checking the number of rows in each year again; \n",
    "hourly1418.groupby(hourly1418['Dates'].dt.year).count()"
   ]
  },
  {
   "cell_type": "code",
   "execution_count": 27,
   "metadata": {},
   "outputs": [
    {
     "name": "stdout",
     "output_type": "stream",
     "text": [
      "True\n",
      "True\n",
      "True\n",
      "True\n",
      "True\n"
     ]
    }
   ],
   "source": [
    "#Converting the energy consumption values to numeric; while converting to numeric, it was observed that some of the values \n",
    "#in the columns were strings, so passing the errors='coerce' argument to the pd.to_numeric method\n",
    "#Also, after converting checking for any null values \n",
    "for col in hourly1418.columns[3:]:\n",
    "    hourly1418[col]=pd.to_numeric(hourly1418[col],errors='coerce')\n",
    "    print(hourly1418[col].isnull().values.any())"
   ]
  },
  {
   "cell_type": "code",
   "execution_count": 28,
   "metadata": {},
   "outputs": [],
   "source": [
    "#Thus we can see that our data has some missing values, let's check how many in each column \n"
   ]
  },
  {
   "cell_type": "code",
   "execution_count": 29,
   "metadata": {},
   "outputs": [
    {
     "data": {
      "text/plain": [
       "Dates          0\n",
       "Date           0\n",
       "HE             0\n",
       "PGE            3\n",
       "SCE            3\n",
       "SDGE           3\n",
       "VEA            3\n",
       "CAISO Total    3\n",
       "dtype: int64"
      ]
     },
     "execution_count": 29,
     "metadata": {},
     "output_type": "execute_result"
    }
   ],
   "source": [
    "hourly1418.isnull().sum()"
   ]
  },
  {
   "cell_type": "code",
   "execution_count": 30,
   "metadata": {},
   "outputs": [
    {
     "data": {
      "text/html": [
       "<div>\n",
       "<style scoped>\n",
       "    .dataframe tbody tr th:only-of-type {\n",
       "        vertical-align: middle;\n",
       "    }\n",
       "\n",
       "    .dataframe tbody tr th {\n",
       "        vertical-align: top;\n",
       "    }\n",
       "\n",
       "    .dataframe thead th {\n",
       "        text-align: right;\n",
       "    }\n",
       "</style>\n",
       "<table border=\"1\" class=\"dataframe\">\n",
       "  <thead>\n",
       "    <tr style=\"text-align: right;\">\n",
       "      <th></th>\n",
       "      <th>Dates</th>\n",
       "      <th>Date</th>\n",
       "      <th>HE</th>\n",
       "      <th>PGE</th>\n",
       "      <th>SCE</th>\n",
       "      <th>SDGE</th>\n",
       "      <th>VEA</th>\n",
       "      <th>CAISO Total</th>\n",
       "    </tr>\n",
       "  </thead>\n",
       "  <tbody>\n",
       "    <tr>\n",
       "      <th>27986</th>\n",
       "      <td>2017-03-12 02:00:00</td>\n",
       "      <td>2017-03-12</td>\n",
       "      <td>2017-03-12 02:59:59.992000</td>\n",
       "      <td>NaN</td>\n",
       "      <td>NaN</td>\n",
       "      <td>NaN</td>\n",
       "      <td>NaN</td>\n",
       "      <td>NaN</td>\n",
       "    </tr>\n",
       "    <tr>\n",
       "      <th>27987</th>\n",
       "      <td>2017-03-12 03:00:00</td>\n",
       "      <td>2017-03-12</td>\n",
       "      <td>2017-03-12 03:59:59.992000</td>\n",
       "      <td>NaN</td>\n",
       "      <td>NaN</td>\n",
       "      <td>NaN</td>\n",
       "      <td>NaN</td>\n",
       "      <td>NaN</td>\n",
       "    </tr>\n",
       "    <tr>\n",
       "      <th>33697</th>\n",
       "      <td>2017-11-05 01:00:00</td>\n",
       "      <td>2017-11-05</td>\n",
       "      <td>2017-11-05 01:59:59.991000</td>\n",
       "      <td>NaN</td>\n",
       "      <td>NaN</td>\n",
       "      <td>NaN</td>\n",
       "      <td>NaN</td>\n",
       "      <td>NaN</td>\n",
       "    </tr>\n",
       "  </tbody>\n",
       "</table>\n",
       "</div>"
      ],
      "text/plain": [
       "                    Dates       Date                          HE  PGE  SCE  \\\n",
       "27986 2017-03-12 02:00:00 2017-03-12  2017-03-12 02:59:59.992000  NaN  NaN   \n",
       "27987 2017-03-12 03:00:00 2017-03-12  2017-03-12 03:59:59.992000  NaN  NaN   \n",
       "33697 2017-11-05 01:00:00 2017-11-05  2017-11-05 01:59:59.991000  NaN  NaN   \n",
       "\n",
       "       SDGE  VEA  CAISO Total  \n",
       "27986   NaN  NaN          NaN  \n",
       "27987   NaN  NaN          NaN  \n",
       "33697   NaN  NaN          NaN  "
      ]
     },
     "execution_count": 30,
     "metadata": {},
     "output_type": "execute_result"
    }
   ],
   "source": [
    "#Checking precisely where the null values are in the dataframe\n",
    "hourly1418[hourly1418.isna().any(axis=1)]"
   ]
  },
  {
   "cell_type": "code",
   "execution_count": 31,
   "metadata": {},
   "outputs": [
    {
     "data": {
      "text/plain": [
       "'We only have 3 missing values and we can choose how to fill them. Since this is an energy consumption data, we need to keep \\nin mind that the energy consumption of an area (including cities and rural) changes depending on the hour of the day, \\nday of the week, month of the year, season and the year itself. So, we can choose the missing values by filling them\\nwith average values of the same month and weekday from  '"
      ]
     },
     "execution_count": 31,
     "metadata": {},
     "output_type": "execute_result"
    }
   ],
   "source": [
    "\"\"\"We only have 3 missing values and we can choose how to fill them. Since this is an energy consumption data, we need to keep \n",
    "in mind that the energy consumption of an area (including cities and rural) changes depending on the hour of the day, \n",
    "day of the week, month of the year, season and the year itself. So, we can choose the missing values by filling them\n",
    "with average values of the same month and weekday for the same hours from the rest of the data  \"\"\""
   ]
  },
  {
   "cell_type": "code",
   "execution_count": 32,
   "metadata": {},
   "outputs": [],
   "source": [
    "#a=hourly1418[(hourly1418.Dates.dt.year!=2017) & (hourly1418.Dates.dt.weekday==6)].groupby([hourly1418.Dates.dt.month])\\[['PGE', 'SCE', 'SDGE', 'VEA', 'CAISO Total']].mean()"
   ]
  },
  {
   "cell_type": "code",
   "execution_count": 33,
   "metadata": {
    "scrolled": true
   },
   "outputs": [],
   "source": [
    "#hourly1418[(hourly1418.Dates.dt.year==2017) & (hourly1418.Dates.dt.weekday==6)].groupby([hourly1418.Dates.dt.month])\\[['PGE', 'SCE', 'SDGE', 'VEA', 'CAISO Total']].mean()"
   ]
  },
  {
   "cell_type": "code",
   "execution_count": 34,
   "metadata": {},
   "outputs": [
    {
     "name": "stdout",
     "output_type": "stream",
     "text": [
      "                    Dates       Date                          HE         PGE  \\\n",
      "27986 2017-03-12 02:00:00 2017-03-12  2017-03-12 02:59:59.992000  9163.47733   \n",
      "\n",
      "               SCE         SDGE       VEA   CAISO Total  \n",
      "27986  8623.487899  1713.434592  44.52928  19544.833883  \n",
      "                    Dates       Date                          HE        PGE  \\\n",
      "27987 2017-03-12 03:00:00 2017-03-12  2017-03-12 03:59:59.992000  9045.2563   \n",
      "\n",
      "               SCE         SDGE        VEA   CAISO Total  \n",
      "27987  8474.363124  1688.695353  45.234274  19253.644265  \n",
      "                    Dates       Date                          HE         PGE  \\\n",
      "33697 2017-11-05 01:00:00 2017-11-05  2017-11-05 01:59:59.991000  9199.45116   \n",
      "\n",
      "               SCE         SDGE        VEA   CAISO Total  \n",
      "33697  8873.075966  1775.314238  50.659546  19898.453338  \n"
     ]
    }
   ],
   "source": [
    "#Filling in the missing values by the average values from the same hour, weekday and month taken from rest of the data\n",
    "for date in hourly1418[hourly1418.isna().any(axis=1)].Dates:\n",
    "    #Checking if the method works\n",
    "    print(hourly1418[hourly1418.Dates==date].fillna(hourly1418[(hourly1418.Dates.dt.month==date.month) & \\\n",
    "                                                               (hourly1418.Dates.dt.weekday==date.dayofweek) &\\\n",
    "                                                               (hourly1418.Dates.dt.hour==date.hour)]\\\n",
    "                                                              .mean()))\n",
    "    #Actually assigning the values to the dataframe\n",
    "    hourly1418[hourly1418.Dates==date]=hourly1418[hourly1418.Dates==date].fillna\\\n",
    "                                                   (hourly1418[(hourly1418.Dates.dt.month==date.month) & \\\n",
    "                                                               (hourly1418.Dates.dt.weekday==date.dayofweek) &\\\n",
    "                                                               (hourly1418.Dates.dt.hour==date.hour)]\\\n",
    "                                                              .mean())"
   ]
  },
  {
   "cell_type": "code",
   "execution_count": 35,
   "metadata": {},
   "outputs": [
    {
     "name": "stdout",
     "output_type": "stream",
     "text": [
      "Empty DataFrame\n",
      "Columns: [Dates, Date, HE, PGE, SCE, SDGE, VEA, CAISO Total]\n",
      "Index: []\n",
      "Dates          0\n",
      "Date           0\n",
      "HE             0\n",
      "PGE            0\n",
      "SCE            0\n",
      "SDGE           0\n",
      "VEA            0\n",
      "CAISO Total    0\n",
      "dtype: int64\n"
     ]
    }
   ],
   "source": [
    "#Checking for missing values again; we can see that the missing values have been filled successfully\n",
    "print(hourly1418[hourly1418.isna().any(axis=1)])\n",
    "print(hourly1418.isnull().sum())"
   ]
  },
  {
   "cell_type": "code",
   "execution_count": 60,
   "metadata": {},
   "outputs": [
    {
     "data": {
      "image/png": "[encoded data removed]",
      "text/plain": [
       "<Figure size 864x504 with 5 Axes>"
      ]
     },
     "metadata": {},
     "output_type": "display_data"
    }
   ],
   "source": [
    "#Plotting the data to check if all the data cleaning opeations were successful and there are no outliers\n",
    "hourly1418.set_index('Dates')[['PGE', 'SCE', 'SDGE', 'VEA', 'CAISO Total']].plot(subplots=True, figsize=(12,7))\n",
    "[ax.legend(loc=1) for ax in plt.gcf().axes]\n",
    "plt.tight_layout()"
   ]
  },
  {
   "cell_type": "code",
   "execution_count": 61,
   "metadata": {},
   "outputs": [
    {
     "name": "stdout",
     "output_type": "stream",
     "text": [
      "<class 'pandas.core.frame.DataFrame'>\n",
      "RangeIndex: 43824 entries, 0 to 43823\n",
      "Data columns (total 8 columns):\n",
      "Dates          43824 non-null datetime64[ns]\n",
      "Date           43824 non-null datetime64[ns]\n",
      "HE             43824 non-null object\n",
      "PGE            43824 non-null float64\n",
      "SCE            43824 non-null float64\n",
      "SDGE           43824 non-null float64\n",
      "VEA            43824 non-null float64\n",
      "CAISO Total    43824 non-null float64\n",
      "dtypes: datetime64[ns](2), float64(5), object(1)\n",
      "memory usage: 2.7+ MB\n"
     ]
    }
   ],
   "source": [
    "hourly1418.info()"
   ]
  },
  {
   "cell_type": "code",
   "execution_count": 64,
   "metadata": {},
   "outputs": [
    {
     "data": {
      "text/html": [
       "<div>\n",
       "<style scoped>\n",
       "    .dataframe tbody tr th:only-of-type {\n",
       "        vertical-align: middle;\n",
       "    }\n",
       "\n",
       "    .dataframe tbody tr th {\n",
       "        vertical-align: top;\n",
       "    }\n",
       "\n",
       "    .dataframe thead th {\n",
       "        text-align: right;\n",
       "    }\n",
       "</style>\n",
       "<table border=\"1\" class=\"dataframe\">\n",
       "  <thead>\n",
       "    <tr style=\"text-align: right;\">\n",
       "      <th></th>\n",
       "      <th>count</th>\n",
       "      <th>mean</th>\n",
       "      <th>std</th>\n",
       "      <th>min</th>\n",
       "      <th>25%</th>\n",
       "      <th>50%</th>\n",
       "      <th>75%</th>\n",
       "      <th>max</th>\n",
       "    </tr>\n",
       "  </thead>\n",
       "  <tbody>\n",
       "    <tr>\n",
       "      <th>PGE</th>\n",
       "      <td>43824.0</td>\n",
       "      <td>11930.037979</td>\n",
       "      <td>1989.259463</td>\n",
       "      <td>8245.000000</td>\n",
       "      <td>10499.000000</td>\n",
       "      <td>11671.000000</td>\n",
       "      <td>12818.00</td>\n",
       "      <td>21713.782826</td>\n",
       "    </tr>\n",
       "    <tr>\n",
       "      <th>SCE</th>\n",
       "      <td>43824.0</td>\n",
       "      <td>11963.369451</td>\n",
       "      <td>2600.327241</td>\n",
       "      <td>7666.000000</td>\n",
       "      <td>10082.960259</td>\n",
       "      <td>11477.421358</td>\n",
       "      <td>12930.00</td>\n",
       "      <td>24185.752289</td>\n",
       "    </tr>\n",
       "    <tr>\n",
       "      <th>SDGE</th>\n",
       "      <td>43824.0</td>\n",
       "      <td>2364.928692</td>\n",
       "      <td>481.066444</td>\n",
       "      <td>1437.081129</td>\n",
       "      <td>1995.046696</td>\n",
       "      <td>2298.000000</td>\n",
       "      <td>2622.00</td>\n",
       "      <td>4867.000000</td>\n",
       "    </tr>\n",
       "    <tr>\n",
       "      <th>VEA</th>\n",
       "      <td>43824.0</td>\n",
       "      <td>62.649542</td>\n",
       "      <td>19.277692</td>\n",
       "      <td>8.000000</td>\n",
       "      <td>49.000000</td>\n",
       "      <td>57.000000</td>\n",
       "      <td>73.00</td>\n",
       "      <td>141.513457</td>\n",
       "    </tr>\n",
       "    <tr>\n",
       "      <th>CAISO Total</th>\n",
       "      <td>43824.0</td>\n",
       "      <td>26320.988384</td>\n",
       "      <td>4950.231107</td>\n",
       "      <td>18030.000000</td>\n",
       "      <td>22664.074061</td>\n",
       "      <td>25591.000000</td>\n",
       "      <td>28445.25</td>\n",
       "      <td>49900.026436</td>\n",
       "    </tr>\n",
       "  </tbody>\n",
       "</table>\n",
       "</div>"
      ],
      "text/plain": [
       "               count          mean          std           min           25%  \\\n",
       "PGE          43824.0  11930.037979  1989.259463   8245.000000  10499.000000   \n",
       "SCE          43824.0  11963.369451  2600.327241   7666.000000  10082.960259   \n",
       "SDGE         43824.0   2364.928692   481.066444   1437.081129   1995.046696   \n",
       "VEA          43824.0     62.649542    19.277692      8.000000     49.000000   \n",
       "CAISO Total  43824.0  26320.988384  4950.231107  18030.000000  22664.074061   \n",
       "\n",
       "                      50%       75%           max  \n",
       "PGE          11671.000000  12818.00  21713.782826  \n",
       "SCE          11477.421358  12930.00  24185.752289  \n",
       "SDGE          2298.000000   2622.00   4867.000000  \n",
       "VEA             57.000000     73.00    141.513457  \n",
       "CAISO Total  25591.000000  28445.25  49900.026436  "
      ]
     },
     "execution_count": 64,
     "metadata": {},
     "output_type": "execute_result"
    }
   ],
   "source": [
    "hourly1418.describe().T"
   ]
  },
  {
   "cell_type": "code",
   "execution_count": 63,
   "metadata": {},
   "outputs": [],
   "source": [
    "#writing the data to a csv file\n",
    "hourly1418.to_csv('hourly1418CA.csv')"
   ]
  },
  {
   "cell_type": "code",
   "execution_count": null,
   "metadata": {},
   "outputs": [],
   "source": []
  }
 ],
 "metadata": {
  "kernelspec": {
   "display_name": "Python 3",
   "language": "python",
   "name": "python3"
  },
  "language_info": {
   "codemirror_mode": {
    "name": "ipython",
    "version": 3
   },
   "file_extension": ".py",
   "mimetype": "text/x-python",
   "name": "python",
   "nbconvert_exporter": "python",
   "pygments_lexer": "ipython3",
   "version": "3.6.5"
  }
 },
 "nbformat": 4,
 "nbformat_minor": 2
}
