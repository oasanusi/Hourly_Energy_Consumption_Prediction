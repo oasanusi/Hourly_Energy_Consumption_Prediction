{
 "cells": [
  {
   "cell_type": "code",
   "execution_count": 1,
   "metadata": {},
   "outputs": [],
   "source": [
    "import pandas as pd\n",
    "import numpy as np\n",
    "import matplotlib.pyplot as plt\n",
    "import seaborn as sns\n",
    "import scipy.stats\n",
    "plt.style.use('bmh')"
   ]
  },
  {
   "cell_type": "code",
   "execution_count": 2,
   "metadata": {},
   "outputs": [],
   "source": [
    "# importing data of previously cleaned and explored hourly1418SDGE.csv file\n",
    "hSDGE1418=pd.read_csv('hourly1418SDGE.csv',  parse_dates=['Dates', 'Date'])"
   ]
  },
  {
   "cell_type": "code",
   "execution_count": 3,
   "metadata": {},
   "outputs": [
    {
     "data": {
      "text/html": [
       "<div>\n",
       "<style scoped>\n",
       "    .dataframe tbody tr th:only-of-type {\n",
       "        vertical-align: middle;\n",
       "    }\n",
       "\n",
       "    .dataframe tbody tr th {\n",
       "        vertical-align: top;\n",
       "    }\n",
       "\n",
       "    .dataframe thead th {\n",
       "        text-align: right;\n",
       "    }\n",
       "</style>\n",
       "<table border=\"1\" class=\"dataframe\">\n",
       "  <thead>\n",
       "    <tr style=\"text-align: right;\">\n",
       "      <th></th>\n",
       "      <th>Unnamed: 0</th>\n",
       "      <th>Dates</th>\n",
       "      <th>SDGE</th>\n",
       "      <th>Date</th>\n",
       "      <th>year</th>\n",
       "      <th>month</th>\n",
       "      <th>day</th>\n",
       "      <th>hour</th>\n",
       "      <th>weekday</th>\n",
       "      <th>season</th>\n",
       "      <th>holiday</th>\n",
       "      <th>non_working</th>\n",
       "    </tr>\n",
       "  </thead>\n",
       "  <tbody>\n",
       "    <tr>\n",
       "      <th>43819</th>\n",
       "      <td>43819</td>\n",
       "      <td>2018-12-31 19:00:00</td>\n",
       "      <td>2609.685890</td>\n",
       "      <td>2018-12-31</td>\n",
       "      <td>2018</td>\n",
       "      <td>12</td>\n",
       "      <td>31</td>\n",
       "      <td>19</td>\n",
       "      <td>Monday</td>\n",
       "      <td>winter</td>\n",
       "      <td>0</td>\n",
       "      <td>0</td>\n",
       "    </tr>\n",
       "    <tr>\n",
       "      <th>43820</th>\n",
       "      <td>43820</td>\n",
       "      <td>2018-12-31 20:00:00</td>\n",
       "      <td>2504.283858</td>\n",
       "      <td>2018-12-31</td>\n",
       "      <td>2018</td>\n",
       "      <td>12</td>\n",
       "      <td>31</td>\n",
       "      <td>20</td>\n",
       "      <td>Monday</td>\n",
       "      <td>winter</td>\n",
       "      <td>0</td>\n",
       "      <td>0</td>\n",
       "    </tr>\n",
       "    <tr>\n",
       "      <th>43821</th>\n",
       "      <td>43821</td>\n",
       "      <td>2018-12-31 21:00:00</td>\n",
       "      <td>2389.460971</td>\n",
       "      <td>2018-12-31</td>\n",
       "      <td>2018</td>\n",
       "      <td>12</td>\n",
       "      <td>31</td>\n",
       "      <td>21</td>\n",
       "      <td>Monday</td>\n",
       "      <td>winter</td>\n",
       "      <td>0</td>\n",
       "      <td>0</td>\n",
       "    </tr>\n",
       "    <tr>\n",
       "      <th>43822</th>\n",
       "      <td>43822</td>\n",
       "      <td>2018-12-31 22:00:00</td>\n",
       "      <td>2259.741640</td>\n",
       "      <td>2018-12-31</td>\n",
       "      <td>2018</td>\n",
       "      <td>12</td>\n",
       "      <td>31</td>\n",
       "      <td>22</td>\n",
       "      <td>Monday</td>\n",
       "      <td>winter</td>\n",
       "      <td>0</td>\n",
       "      <td>0</td>\n",
       "    </tr>\n",
       "    <tr>\n",
       "      <th>43823</th>\n",
       "      <td>43823</td>\n",
       "      <td>2018-12-31 23:00:00</td>\n",
       "      <td>2123.183153</td>\n",
       "      <td>2018-12-31</td>\n",
       "      <td>2018</td>\n",
       "      <td>12</td>\n",
       "      <td>31</td>\n",
       "      <td>23</td>\n",
       "      <td>Monday</td>\n",
       "      <td>winter</td>\n",
       "      <td>0</td>\n",
       "      <td>0</td>\n",
       "    </tr>\n",
       "  </tbody>\n",
       "</table>\n",
       "</div>"
      ],
      "text/plain": [
       "       Unnamed: 0               Dates         SDGE       Date  year  month  \\\n",
       "43819       43819 2018-12-31 19:00:00  2609.685890 2018-12-31  2018     12   \n",
       "43820       43820 2018-12-31 20:00:00  2504.283858 2018-12-31  2018     12   \n",
       "43821       43821 2018-12-31 21:00:00  2389.460971 2018-12-31  2018     12   \n",
       "43822       43822 2018-12-31 22:00:00  2259.741640 2018-12-31  2018     12   \n",
       "43823       43823 2018-12-31 23:00:00  2123.183153 2018-12-31  2018     12   \n",
       "\n",
       "       day  hour weekday  season  holiday  non_working  \n",
       "43819   31    19  Monday  winter        0            0  \n",
       "43820   31    20  Monday  winter        0            0  \n",
       "43821   31    21  Monday  winter        0            0  \n",
       "43822   31    22  Monday  winter        0            0  \n",
       "43823   31    23  Monday  winter        0            0  "
      ]
     },
     "execution_count": 3,
     "metadata": {},
     "output_type": "execute_result"
    }
   ],
   "source": [
    "hSDGE1418.tail()"
   ]
  },
  {
   "cell_type": "code",
   "execution_count": 4,
   "metadata": {},
   "outputs": [],
   "source": [
    "del hSDGE1418['Unnamed: 0']"
   ]
  },
  {
   "cell_type": "code",
   "execution_count": 5,
   "metadata": {},
   "outputs": [
    {
     "name": "stdout",
     "output_type": "stream",
     "text": [
      "<class 'pandas.core.frame.DataFrame'>\n",
      "RangeIndex: 43824 entries, 0 to 43823\n",
      "Data columns (total 11 columns):\n",
      "Dates          43824 non-null datetime64[ns]\n",
      "SDGE           43824 non-null float64\n",
      "Date           43824 non-null datetime64[ns]\n",
      "year           43824 non-null int64\n",
      "month          43824 non-null int64\n",
      "day            43824 non-null int64\n",
      "hour           43824 non-null int64\n",
      "weekday        43824 non-null object\n",
      "season         43824 non-null object\n",
      "holiday        43824 non-null int64\n",
      "non_working    43824 non-null int64\n",
      "dtypes: datetime64[ns](2), float64(1), int64(6), object(2)\n",
      "memory usage: 3.7+ MB\n"
     ]
    }
   ],
   "source": [
    "hSDGE1418.info()"
   ]
  },
  {
   "cell_type": "code",
   "execution_count": 7,
   "metadata": {},
   "outputs": [
    {
     "data": {
      "text/html": [
       "<div>\n",
       "<style scoped>\n",
       "    .dataframe tbody tr th:only-of-type {\n",
       "        vertical-align: middle;\n",
       "    }\n",
       "\n",
       "    .dataframe tbody tr th {\n",
       "        vertical-align: top;\n",
       "    }\n",
       "\n",
       "    .dataframe thead th {\n",
       "        text-align: right;\n",
       "    }\n",
       "</style>\n",
       "<table border=\"1\" class=\"dataframe\">\n",
       "  <thead>\n",
       "    <tr style=\"text-align: right;\">\n",
       "      <th></th>\n",
       "      <th>count</th>\n",
       "      <th>mean</th>\n",
       "      <th>std</th>\n",
       "      <th>min</th>\n",
       "      <th>25%</th>\n",
       "      <th>50%</th>\n",
       "      <th>75%</th>\n",
       "      <th>max</th>\n",
       "    </tr>\n",
       "  </thead>\n",
       "  <tbody>\n",
       "    <tr>\n",
       "      <th>SDGE</th>\n",
       "      <td>43824.0</td>\n",
       "      <td>2364.928692</td>\n",
       "      <td>481.066444</td>\n",
       "      <td>1437.081129</td>\n",
       "      <td>1995.046696</td>\n",
       "      <td>2298.0</td>\n",
       "      <td>2622.00</td>\n",
       "      <td>4867.0</td>\n",
       "    </tr>\n",
       "    <tr>\n",
       "      <th>year</th>\n",
       "      <td>43824.0</td>\n",
       "      <td>2016.000000</td>\n",
       "      <td>1.413842</td>\n",
       "      <td>2014.000000</td>\n",
       "      <td>2015.000000</td>\n",
       "      <td>2016.0</td>\n",
       "      <td>2017.00</td>\n",
       "      <td>2018.0</td>\n",
       "    </tr>\n",
       "    <tr>\n",
       "      <th>month</th>\n",
       "      <td>43824.0</td>\n",
       "      <td>6.523549</td>\n",
       "      <td>3.448572</td>\n",
       "      <td>1.000000</td>\n",
       "      <td>4.000000</td>\n",
       "      <td>7.0</td>\n",
       "      <td>10.00</td>\n",
       "      <td>12.0</td>\n",
       "    </tr>\n",
       "    <tr>\n",
       "      <th>day</th>\n",
       "      <td>43824.0</td>\n",
       "      <td>15.727820</td>\n",
       "      <td>8.799425</td>\n",
       "      <td>1.000000</td>\n",
       "      <td>8.000000</td>\n",
       "      <td>16.0</td>\n",
       "      <td>23.00</td>\n",
       "      <td>31.0</td>\n",
       "    </tr>\n",
       "    <tr>\n",
       "      <th>hour</th>\n",
       "      <td>43824.0</td>\n",
       "      <td>11.500000</td>\n",
       "      <td>6.922266</td>\n",
       "      <td>0.000000</td>\n",
       "      <td>5.750000</td>\n",
       "      <td>11.5</td>\n",
       "      <td>17.25</td>\n",
       "      <td>23.0</td>\n",
       "    </tr>\n",
       "    <tr>\n",
       "      <th>holiday</th>\n",
       "      <td>43824.0</td>\n",
       "      <td>0.027382</td>\n",
       "      <td>0.163196</td>\n",
       "      <td>0.000000</td>\n",
       "      <td>0.000000</td>\n",
       "      <td>0.0</td>\n",
       "      <td>0.00</td>\n",
       "      <td>1.0</td>\n",
       "    </tr>\n",
       "    <tr>\n",
       "      <th>non_working</th>\n",
       "      <td>43824.0</td>\n",
       "      <td>0.313253</td>\n",
       "      <td>0.463822</td>\n",
       "      <td>0.000000</td>\n",
       "      <td>0.000000</td>\n",
       "      <td>0.0</td>\n",
       "      <td>1.00</td>\n",
       "      <td>1.0</td>\n",
       "    </tr>\n",
       "  </tbody>\n",
       "</table>\n",
       "</div>"
      ],
      "text/plain": [
       "               count         mean         std          min          25%  \\\n",
       "SDGE         43824.0  2364.928692  481.066444  1437.081129  1995.046696   \n",
       "year         43824.0  2016.000000    1.413842  2014.000000  2015.000000   \n",
       "month        43824.0     6.523549    3.448572     1.000000     4.000000   \n",
       "day          43824.0    15.727820    8.799425     1.000000     8.000000   \n",
       "hour         43824.0    11.500000    6.922266     0.000000     5.750000   \n",
       "holiday      43824.0     0.027382    0.163196     0.000000     0.000000   \n",
       "non_working  43824.0     0.313253    0.463822     0.000000     0.000000   \n",
       "\n",
       "                50%      75%     max  \n",
       "SDGE         2298.0  2622.00  4867.0  \n",
       "year         2016.0  2017.00  2018.0  \n",
       "month           7.0    10.00    12.0  \n",
       "day            16.0    23.00    31.0  \n",
       "hour           11.5    17.25    23.0  \n",
       "holiday         0.0     0.00     1.0  \n",
       "non_working     0.0     1.00     1.0  "
      ]
     },
     "execution_count": 7,
     "metadata": {},
     "output_type": "execute_result"
    }
   ],
   "source": [
    "hSDGE1418.describe().T"
   ]
  },
  {
   "cell_type": "markdown",
   "metadata": {},
   "source": [
    "#### To see the impact of weather (specifically the temperature) on the energy consumption, we have imported the hourly temperature data from https://www.ncei.noaa.gov/metadata/geoportal/rest/metadata/item/gov.noaa.ncdc:C00684/html\n",
    "\n"
   ]
  },
  {
   "cell_type": "code",
   "execution_count": 8,
   "metadata": {},
   "outputs": [
    {
     "name": "stderr",
     "output_type": "stream",
     "text": [
      "C:\\Users\\ppawar\\AppData\\Local\\Continuum\\anaconda3\\lib\\site-packages\\IPython\\core\\interactiveshell.py:2785: DtypeWarning: Columns (3,5,7,8,11,14,19,25,26,27,28,29,30,31,32,35,36,43,48,49,53,56,58,59,69,71,72,88,95,96,97,98,99,100,101,102,103,104,105,106,107,123) have mixed types. Specify dtype option on import or set low_memory=False.\n",
      "  interactivity=interactivity, compiler=compiler, result=result)\n"
     ]
    }
   ],
   "source": [
    "# Bringing in weather data from https://www.ncei.noaa.gov/metadata/geoportal/rest/metadata/item/gov.noaa.ncdc:C00684/html\n",
    "weatherdf_all = pd.read_csv('houry_data_NOAA_2014_2018.csv')"
   ]
  },
  {
   "cell_type": "code",
   "execution_count": 10,
   "metadata": {},
   "outputs": [],
   "source": [
    "#weatherdf.columns.values\n",
    "\n",
    "# Keeping only the relevant columns \n",
    "weatherdf = weatherdf_all[['STATION', 'DATE', 'DailyCoolingDegreeDays','DailyHeatingDegreeDays', 'HourlyDryBulbTemperature']]"
   ]
  },
  {
   "cell_type": "markdown",
   "metadata": {},
   "source": [
    "* __There are two weather stations for which the data has been recorded. We'll use the San Diego International airport data for this project__"
   ]
  },
  {
   "cell_type": "code",
   "execution_count": 11,
   "metadata": {},
   "outputs": [
    {
     "data": {
      "text/html": [
       "<div>\n",
       "<style scoped>\n",
       "    .dataframe tbody tr th:only-of-type {\n",
       "        vertical-align: middle;\n",
       "    }\n",
       "\n",
       "    .dataframe tbody tr th {\n",
       "        vertical-align: top;\n",
       "    }\n",
       "\n",
       "    .dataframe thead th {\n",
       "        text-align: right;\n",
       "    }\n",
       "</style>\n",
       "<table border=\"1\" class=\"dataframe\">\n",
       "  <thead>\n",
       "    <tr style=\"text-align: right;\">\n",
       "      <th></th>\n",
       "      <th>STATION</th>\n",
       "      <th>DATE</th>\n",
       "      <th>DailyCoolingDegreeDays</th>\n",
       "      <th>DailyHeatingDegreeDays</th>\n",
       "      <th>HourlyDryBulbTemperature</th>\n",
       "    </tr>\n",
       "  </thead>\n",
       "  <tbody>\n",
       "    <tr>\n",
       "      <th>0</th>\n",
       "      <td>72290023188</td>\n",
       "      <td>2014-01-01T00:07:00</td>\n",
       "      <td>NaN</td>\n",
       "      <td>NaN</td>\n",
       "      <td>52</td>\n",
       "    </tr>\n",
       "    <tr>\n",
       "      <th>1</th>\n",
       "      <td>72290023188</td>\n",
       "      <td>2014-01-01T00:14:00</td>\n",
       "      <td>NaN</td>\n",
       "      <td>NaN</td>\n",
       "      <td>52</td>\n",
       "    </tr>\n",
       "    <tr>\n",
       "      <th>2</th>\n",
       "      <td>72290023188</td>\n",
       "      <td>2014-01-01T00:22:00</td>\n",
       "      <td>NaN</td>\n",
       "      <td>NaN</td>\n",
       "      <td>52</td>\n",
       "    </tr>\n",
       "    <tr>\n",
       "      <th>3</th>\n",
       "      <td>72290023188</td>\n",
       "      <td>2014-01-01T00:32:00</td>\n",
       "      <td>NaN</td>\n",
       "      <td>NaN</td>\n",
       "      <td>52</td>\n",
       "    </tr>\n",
       "    <tr>\n",
       "      <th>4</th>\n",
       "      <td>72290023188</td>\n",
       "      <td>2014-01-01T00:42:00</td>\n",
       "      <td>NaN</td>\n",
       "      <td>NaN</td>\n",
       "      <td>50</td>\n",
       "    </tr>\n",
       "  </tbody>\n",
       "</table>\n",
       "</div>"
      ],
      "text/plain": [
       "       STATION                 DATE DailyCoolingDegreeDays  \\\n",
       "0  72290023188  2014-01-01T00:07:00                    NaN   \n",
       "1  72290023188  2014-01-01T00:14:00                    NaN   \n",
       "2  72290023188  2014-01-01T00:22:00                    NaN   \n",
       "3  72290023188  2014-01-01T00:32:00                    NaN   \n",
       "4  72290023188  2014-01-01T00:42:00                    NaN   \n",
       "\n",
       "  DailyHeatingDegreeDays HourlyDryBulbTemperature  \n",
       "0                    NaN                       52  \n",
       "1                    NaN                       52  \n",
       "2                    NaN                       52  \n",
       "3                    NaN                       52  \n",
       "4                    NaN                       50  "
      ]
     },
     "execution_count": 11,
     "metadata": {},
     "output_type": "execute_result"
    }
   ],
   "source": [
    "# San Diego international airport station is represented by the 72290023188 station id\n",
    "weatherdf_air = weatherdf[weatherdf.STATION == 72290023188]\n",
    "weatherdf_air.head()"
   ]
  },
  {
   "cell_type": "code",
   "execution_count": 12,
   "metadata": {},
   "outputs": [
    {
     "name": "stderr",
     "output_type": "stream",
     "text": [
      "C:\\Users\\ppawar\\AppData\\Local\\Continuum\\anaconda3\\lib\\site-packages\\ipykernel_launcher.py:2: SettingWithCopyWarning: \n",
      "A value is trying to be set on a copy of a slice from a DataFrame.\n",
      "Try using .loc[row_indexer,col_indexer] = value instead\n",
      "\n",
      "See the caveats in the documentation: http://pandas.pydata.org/pandas-docs/stable/indexing.html#indexing-view-versus-copy\n",
      "  \n"
     ]
    }
   ],
   "source": [
    "# COnverting the DATE column to datetime\n",
    "weatherdf_air['DATE'] = pd.to_datetime(weatherdf_air['DATE'])"
   ]
  },
  {
   "cell_type": "code",
   "execution_count": 13,
   "metadata": {},
   "outputs": [
    {
     "name": "stdout",
     "output_type": "stream",
     "text": [
      "<class 'pandas.core.frame.DataFrame'>\n",
      "Int64Index: 61956 entries, 0 to 61955\n",
      "Data columns (total 5 columns):\n",
      "STATION                     61956 non-null int64\n",
      "DATE                        61956 non-null datetime64[ns]\n",
      "DailyCoolingDegreeDays      1826 non-null object\n",
      "DailyHeatingDegreeDays      1826 non-null object\n",
      "HourlyDryBulbTemperature    60060 non-null object\n",
      "dtypes: datetime64[ns](1), int64(1), object(3)\n",
      "memory usage: 2.8+ MB\n"
     ]
    }
   ],
   "source": [
    "weatherdf_air.info()"
   ]
  },
  {
   "cell_type": "code",
   "execution_count": 14,
   "metadata": {},
   "outputs": [
    {
     "name": "stderr",
     "output_type": "stream",
     "text": [
      "C:\\Users\\ppawar\\AppData\\Local\\Continuum\\anaconda3\\lib\\site-packages\\pandas\\core\\frame.py:3391: SettingWithCopyWarning: \n",
      "A value is trying to be set on a copy of a slice from a DataFrame.\n",
      "Try using .loc[row_indexer,col_indexer] = value instead\n",
      "\n",
      "See the caveats in the documentation: http://pandas.pydata.org/pandas-docs/stable/indexing.html#indexing-view-versus-copy\n",
      "  self[k1] = value[k2]\n"
     ]
    }
   ],
   "source": [
    "# The daily cooling and heating degree days are recorded at the 23rd hour of every day, so for analytical purposes we can \n",
    "# backfill the missing values; but if these values are to be used an appropriate groupby or resample method should be used, \n",
    "# as they represent daily values, not hourly\n",
    "weatherdf_air[['DailyCoolingDegreeDays','DailyHeatingDegreeDays']] = \\\n",
    "                weatherdf_air[['DailyCoolingDegreeDays','DailyHeatingDegreeDays']].fillna(method='bfill')"
   ]
  },
  {
   "cell_type": "code",
   "execution_count": 15,
   "metadata": {},
   "outputs": [
    {
     "data": {
      "text/html": [
       "<div>\n",
       "<style scoped>\n",
       "    .dataframe tbody tr th:only-of-type {\n",
       "        vertical-align: middle;\n",
       "    }\n",
       "\n",
       "    .dataframe tbody tr th {\n",
       "        vertical-align: top;\n",
       "    }\n",
       "\n",
       "    .dataframe thead th {\n",
       "        text-align: right;\n",
       "    }\n",
       "</style>\n",
       "<table border=\"1\" class=\"dataframe\">\n",
       "  <thead>\n",
       "    <tr style=\"text-align: right;\">\n",
       "      <th></th>\n",
       "      <th>STATION</th>\n",
       "      <th>DATE</th>\n",
       "      <th>DailyCoolingDegreeDays</th>\n",
       "      <th>DailyHeatingDegreeDays</th>\n",
       "      <th>HourlyDryBulbTemperature</th>\n",
       "    </tr>\n",
       "  </thead>\n",
       "  <tbody>\n",
       "    <tr>\n",
       "      <th>0</th>\n",
       "      <td>72290023188</td>\n",
       "      <td>2014-01-01 00:07:00</td>\n",
       "      <td>0</td>\n",
       "      <td>7</td>\n",
       "      <td>52</td>\n",
       "    </tr>\n",
       "    <tr>\n",
       "      <th>1</th>\n",
       "      <td>72290023188</td>\n",
       "      <td>2014-01-01 00:14:00</td>\n",
       "      <td>0</td>\n",
       "      <td>7</td>\n",
       "      <td>52</td>\n",
       "    </tr>\n",
       "    <tr>\n",
       "      <th>2</th>\n",
       "      <td>72290023188</td>\n",
       "      <td>2014-01-01 00:22:00</td>\n",
       "      <td>0</td>\n",
       "      <td>7</td>\n",
       "      <td>52</td>\n",
       "    </tr>\n",
       "    <tr>\n",
       "      <th>3</th>\n",
       "      <td>72290023188</td>\n",
       "      <td>2014-01-01 00:32:00</td>\n",
       "      <td>0</td>\n",
       "      <td>7</td>\n",
       "      <td>52</td>\n",
       "    </tr>\n",
       "    <tr>\n",
       "      <th>4</th>\n",
       "      <td>72290023188</td>\n",
       "      <td>2014-01-01 00:42:00</td>\n",
       "      <td>0</td>\n",
       "      <td>7</td>\n",
       "      <td>50</td>\n",
       "    </tr>\n",
       "  </tbody>\n",
       "</table>\n",
       "</div>"
      ],
      "text/plain": [
       "       STATION                DATE DailyCoolingDegreeDays  \\\n",
       "0  72290023188 2014-01-01 00:07:00                      0   \n",
       "1  72290023188 2014-01-01 00:14:00                      0   \n",
       "2  72290023188 2014-01-01 00:22:00                      0   \n",
       "3  72290023188 2014-01-01 00:32:00                      0   \n",
       "4  72290023188 2014-01-01 00:42:00                      0   \n",
       "\n",
       "  DailyHeatingDegreeDays HourlyDryBulbTemperature  \n",
       "0                      7                       52  \n",
       "1                      7                       52  \n",
       "2                      7                       52  \n",
       "3                      7                       52  \n",
       "4                      7                       50  "
      ]
     },
     "execution_count": 15,
     "metadata": {},
     "output_type": "execute_result"
    }
   ],
   "source": [
    "weatherdf_air.head()"
   ]
  },
  {
   "cell_type": "code",
   "execution_count": 16,
   "metadata": {},
   "outputs": [
    {
     "data": {
      "text/html": [
       "<div>\n",
       "<style scoped>\n",
       "    .dataframe tbody tr th:only-of-type {\n",
       "        vertical-align: middle;\n",
       "    }\n",
       "\n",
       "    .dataframe tbody tr th {\n",
       "        vertical-align: top;\n",
       "    }\n",
       "\n",
       "    .dataframe thead th {\n",
       "        text-align: right;\n",
       "    }\n",
       "</style>\n",
       "<table border=\"1\" class=\"dataframe\">\n",
       "  <thead>\n",
       "    <tr style=\"text-align: right;\">\n",
       "      <th></th>\n",
       "      <th>STATION</th>\n",
       "      <th>DATE</th>\n",
       "      <th>DailyCoolingDegreeDays</th>\n",
       "      <th>DailyHeatingDegreeDays</th>\n",
       "      <th>HourlyDryBulbTemperature</th>\n",
       "    </tr>\n",
       "  </thead>\n",
       "  <tbody>\n",
       "    <tr>\n",
       "      <th>53</th>\n",
       "      <td>72290023188</td>\n",
       "      <td>2014-01-01 23:59:00</td>\n",
       "      <td>0</td>\n",
       "      <td>7</td>\n",
       "      <td>NaN</td>\n",
       "    </tr>\n",
       "    <tr>\n",
       "      <th>103</th>\n",
       "      <td>72290023188</td>\n",
       "      <td>2014-01-02 23:59:00</td>\n",
       "      <td>0</td>\n",
       "      <td>6</td>\n",
       "      <td>NaN</td>\n",
       "    </tr>\n",
       "    <tr>\n",
       "      <th>146</th>\n",
       "      <td>72290023188</td>\n",
       "      <td>2014-01-03 23:59:00</td>\n",
       "      <td>0</td>\n",
       "      <td>9</td>\n",
       "      <td>NaN</td>\n",
       "    </tr>\n",
       "    <tr>\n",
       "      <th>179</th>\n",
       "      <td>72290023188</td>\n",
       "      <td>2014-01-04 23:59:00</td>\n",
       "      <td>0</td>\n",
       "      <td>4</td>\n",
       "      <td>NaN</td>\n",
       "    </tr>\n",
       "    <tr>\n",
       "      <th>209</th>\n",
       "      <td>72290023188</td>\n",
       "      <td>2014-01-05 23:59:00</td>\n",
       "      <td>0</td>\n",
       "      <td>3</td>\n",
       "      <td>NaN</td>\n",
       "    </tr>\n",
       "  </tbody>\n",
       "</table>\n",
       "</div>"
      ],
      "text/plain": [
       "         STATION                DATE DailyCoolingDegreeDays  \\\n",
       "53   72290023188 2014-01-01 23:59:00                      0   \n",
       "103  72290023188 2014-01-02 23:59:00                      0   \n",
       "146  72290023188 2014-01-03 23:59:00                      0   \n",
       "179  72290023188 2014-01-04 23:59:00                      0   \n",
       "209  72290023188 2014-01-05 23:59:00                      0   \n",
       "\n",
       "    DailyHeatingDegreeDays HourlyDryBulbTemperature  \n",
       "53                       7                      NaN  \n",
       "103                      6                      NaN  \n",
       "146                      9                      NaN  \n",
       "179                      4                      NaN  \n",
       "209                      3                      NaN  "
      ]
     },
     "execution_count": 16,
     "metadata": {},
     "output_type": "execute_result"
    }
   ],
   "source": [
    "weatherdf_air[weatherdf_air.isna().any(axis=1)].head()"
   ]
  },
  {
   "cell_type": "code",
   "execution_count": 17,
   "metadata": {},
   "outputs": [],
   "source": [
    "# The weather station reports the daily cooling and heating degree days at 23:59:00 of each day, but for the same time it\n",
    "# renders the dry bulb temperature as NaN. Since it's night time and the only one hour is missing we can use forward fill to\n",
    "# take the previous hour's temperature.\n",
    "weatherdf_air = weatherdf_air.fillna(method='ffill')"
   ]
  },
  {
   "cell_type": "code",
   "execution_count": 18,
   "metadata": {},
   "outputs": [
    {
     "data": {
      "text/html": [
       "<div>\n",
       "<style scoped>\n",
       "    .dataframe tbody tr th:only-of-type {\n",
       "        vertical-align: middle;\n",
       "    }\n",
       "\n",
       "    .dataframe tbody tr th {\n",
       "        vertical-align: top;\n",
       "    }\n",
       "\n",
       "    .dataframe thead th {\n",
       "        text-align: right;\n",
       "    }\n",
       "</style>\n",
       "<table border=\"1\" class=\"dataframe\">\n",
       "  <thead>\n",
       "    <tr style=\"text-align: right;\">\n",
       "      <th></th>\n",
       "      <th>STATION</th>\n",
       "      <th>DATE</th>\n",
       "      <th>DailyCoolingDegreeDays</th>\n",
       "      <th>DailyHeatingDegreeDays</th>\n",
       "      <th>HourlyDryBulbTemperature</th>\n",
       "    </tr>\n",
       "  </thead>\n",
       "  <tbody>\n",
       "  </tbody>\n",
       "</table>\n",
       "</div>"
      ],
      "text/plain": [
       "Empty DataFrame\n",
       "Columns: [STATION, DATE, DailyCoolingDegreeDays, DailyHeatingDegreeDays, HourlyDryBulbTemperature]\n",
       "Index: []"
      ]
     },
     "execution_count": 18,
     "metadata": {},
     "output_type": "execute_result"
    }
   ],
   "source": [
    "# Again checking for null values\n",
    "weatherdf_air[weatherdf_air.isna().any(axis=1)].head()"
   ]
  },
  {
   "cell_type": "code",
   "execution_count": null,
   "metadata": {},
   "outputs": [],
   "source": []
  },
  {
   "cell_type": "code",
   "execution_count": 19,
   "metadata": {},
   "outputs": [],
   "source": [
    "# Converting the degree days and temperature columns to numeric and using errors='coerce', to force convert any string \n",
    "# to numeric value. This (error='coerce') method was used only after confirming that very few values were of string type\n",
    "# so we don't lose any valuable data by using the above method. \n",
    "weatherdf_air['DailyCoolingDegreeDays'] = pd.to_numeric(weatherdf_air['DailyCoolingDegreeDays'], errors='coerce')\n",
    "weatherdf_air['DailyHeatingDegreeDays'] = pd.to_numeric(weatherdf_air['DailyHeatingDegreeDays'], errors='coerce')\n",
    "weatherdf_air['HourlyDryBulbTemperature'] = pd.to_numeric(weatherdf_air['HourlyDryBulbTemperature'], errors='coerce')"
   ]
  },
  {
   "cell_type": "code",
   "execution_count": 20,
   "metadata": {},
   "outputs": [
    {
     "name": "stdout",
     "output_type": "stream",
     "text": [
      "<class 'pandas.core.frame.DataFrame'>\n",
      "Int64Index: 61956 entries, 0 to 61955\n",
      "Data columns (total 5 columns):\n",
      "STATION                     61956 non-null int64\n",
      "DATE                        61956 non-null datetime64[ns]\n",
      "DailyCoolingDegreeDays      61956 non-null float64\n",
      "DailyHeatingDegreeDays      61956 non-null float64\n",
      "HourlyDryBulbTemperature    61953 non-null float64\n",
      "dtypes: datetime64[ns](1), float64(3), int64(1)\n",
      "memory usage: 2.8 MB\n"
     ]
    }
   ],
   "source": [
    "weatherdf_air.info()"
   ]
  },
  {
   "cell_type": "code",
   "execution_count": 21,
   "metadata": {},
   "outputs": [
    {
     "data": {
      "text/html": [
       "<div>\n",
       "<style scoped>\n",
       "    .dataframe tbody tr th:only-of-type {\n",
       "        vertical-align: middle;\n",
       "    }\n",
       "\n",
       "    .dataframe tbody tr th {\n",
       "        vertical-align: top;\n",
       "    }\n",
       "\n",
       "    .dataframe thead th {\n",
       "        text-align: right;\n",
       "    }\n",
       "</style>\n",
       "<table border=\"1\" class=\"dataframe\">\n",
       "  <thead>\n",
       "    <tr style=\"text-align: right;\">\n",
       "      <th></th>\n",
       "      <th>STATION</th>\n",
       "      <th>DailyCoolingDegreeDays</th>\n",
       "      <th>DailyHeatingDegreeDays</th>\n",
       "      <th>HourlyDryBulbTemperature</th>\n",
       "    </tr>\n",
       "    <tr>\n",
       "      <th>DATE</th>\n",
       "      <th></th>\n",
       "      <th></th>\n",
       "      <th></th>\n",
       "      <th></th>\n",
       "    </tr>\n",
       "  </thead>\n",
       "  <tbody>\n",
       "    <tr>\n",
       "      <th>2014-01-01 00:00:00</th>\n",
       "      <td>72290023188</td>\n",
       "      <td>0.0</td>\n",
       "      <td>7.0</td>\n",
       "      <td>51.0</td>\n",
       "    </tr>\n",
       "    <tr>\n",
       "      <th>2014-01-01 01:00:00</th>\n",
       "      <td>72290023188</td>\n",
       "      <td>0.0</td>\n",
       "      <td>7.0</td>\n",
       "      <td>51.5</td>\n",
       "    </tr>\n",
       "    <tr>\n",
       "      <th>2014-01-01 02:00:00</th>\n",
       "      <td>72290023188</td>\n",
       "      <td>0.0</td>\n",
       "      <td>7.0</td>\n",
       "      <td>51.8</td>\n",
       "    </tr>\n",
       "    <tr>\n",
       "      <th>2014-01-01 03:00:00</th>\n",
       "      <td>72290023188</td>\n",
       "      <td>0.0</td>\n",
       "      <td>7.0</td>\n",
       "      <td>50.0</td>\n",
       "    </tr>\n",
       "    <tr>\n",
       "      <th>2014-01-01 04:00:00</th>\n",
       "      <td>72290023188</td>\n",
       "      <td>0.0</td>\n",
       "      <td>7.0</td>\n",
       "      <td>48.8</td>\n",
       "    </tr>\n",
       "  </tbody>\n",
       "</table>\n",
       "</div>"
      ],
      "text/plain": [
       "                         STATION  DailyCoolingDegreeDays  \\\n",
       "DATE                                                       \n",
       "2014-01-01 00:00:00  72290023188                     0.0   \n",
       "2014-01-01 01:00:00  72290023188                     0.0   \n",
       "2014-01-01 02:00:00  72290023188                     0.0   \n",
       "2014-01-01 03:00:00  72290023188                     0.0   \n",
       "2014-01-01 04:00:00  72290023188                     0.0   \n",
       "\n",
       "                     DailyHeatingDegreeDays  HourlyDryBulbTemperature  \n",
       "DATE                                                                   \n",
       "2014-01-01 00:00:00                     7.0                      51.0  \n",
       "2014-01-01 01:00:00                     7.0                      51.5  \n",
       "2014-01-01 02:00:00                     7.0                      51.8  \n",
       "2014-01-01 03:00:00                     7.0                      50.0  \n",
       "2014-01-01 04:00:00                     7.0                      48.8  "
      ]
     },
     "execution_count": 21,
     "metadata": {},
     "output_type": "execute_result"
    }
   ],
   "source": [
    "# Since the weather data is captured every 7 minutes here and the energy consumption data is hourly data, resample the weather\n",
    "# data in hourly intervals and calculate average temperature for each hour; storing the resampled df as hourly_weather\n",
    "hourly_weather = weatherdf_air.set_index('DATE').resample('H').mean()\n",
    "hourly_weather.head()"
   ]
  },
  {
   "cell_type": "code",
   "execution_count": 22,
   "metadata": {},
   "outputs": [
    {
     "data": {
      "text/plain": [
       "STATION                     0.0\n",
       "DailyCoolingDegreeDays      0.0\n",
       "DailyHeatingDegreeDays      0.0\n",
       "HourlyDryBulbTemperature    0.0\n",
       "dtype: float64"
      ]
     },
     "execution_count": 22,
     "metadata": {},
     "output_type": "execute_result"
    }
   ],
   "source": [
    "hourly_weather[hourly_weather.isna().any(axis=1)].sum()"
   ]
  },
  {
   "cell_type": "code",
   "execution_count": 23,
   "metadata": {},
   "outputs": [],
   "source": [
    "# resetting the index of the hourly_weather file to merge with the energy data\n",
    "hourly_weather = hourly_weather.reset_index()"
   ]
  },
  {
   "cell_type": "code",
   "execution_count": 24,
   "metadata": {},
   "outputs": [],
   "source": [
    "# Creating a new dataframe wehSDGE1418 by merging the energy dataframe- hSDGE1418 and the hourly_weather dataframe. Merging on \n",
    "# the Dates column of the both the dataframes and using outer to see if any of the two dataframes has values which are missing\n",
    "# in the other dataframe\n",
    "wehSDGE1418 = pd.merge(hSDGE1418, hourly_weather, how = 'outer', left_on = 'Dates', right_on= 'DATE')"
   ]
  },
  {
   "cell_type": "code",
   "execution_count": 25,
   "metadata": {},
   "outputs": [
    {
     "data": {
      "text/plain": [
       "Dates                       0.0\n",
       "SDGE                        0.0\n",
       "Date                        0.0\n",
       "year                        0.0\n",
       "month                       0.0\n",
       "day                         0.0\n",
       "hour                        0.0\n",
       "weekday                     0.0\n",
       "season                      0.0\n",
       "holiday                     0.0\n",
       "non_working                 0.0\n",
       "DATE                        0.0\n",
       "STATION                     0.0\n",
       "DailyCoolingDegreeDays      0.0\n",
       "DailyHeatingDegreeDays      0.0\n",
       "HourlyDryBulbTemperature    0.0\n",
       "dtype: float64"
      ]
     },
     "execution_count": 25,
     "metadata": {},
     "output_type": "execute_result"
    }
   ],
   "source": [
    "wehSDGE1418[wehSDGE1418.isna().any(axis=1)].sum()"
   ]
  },
  {
   "cell_type": "code",
   "execution_count": 27,
   "metadata": {},
   "outputs": [],
   "source": [
    "# Since no null values were found, all the rows from hSDGE1418 were matched with the hourly_weather rows on their respective\n",
    "# date columns"
   ]
  },
  {
   "cell_type": "markdown",
   "metadata": {},
   "source": [
    "* __Plotting the energy and weather data together to check for any potential correlation__"
   ]
  },
  {
   "cell_type": "code",
   "execution_count": 29,
   "metadata": {},
   "outputs": [
    {
     "data": {
      "image/png": "[encoded data removed]",
      "text/plain": [
       "<Figure size 1080x504 with 2 Axes>"
      ]
     },
     "metadata": {},
     "output_type": "display_data"
    }
   ],
   "source": [
    "# Plotting the energy and weather data on the same graph as line plots\n",
    "fig, ax1 = plt.subplots(figsize=(15,7))\n",
    "\n",
    "color = 'tab:red'\n",
    "ax1.set_xlabel('Dates')\n",
    "ax1.set_ylabel('Energy consumption MWH', color=color)\n",
    "ax1.plot(wehSDGE1418['Dates'],wehSDGE1418['SDGE'], color=color, alpha=0.5)         \n",
    "ax1.tick_params(axis='y', labelcolor=color)\n",
    "\n",
    "ax2 = ax1.twinx()  # instantiate a second axes that shares the same x-axis\n",
    "\n",
    "color = 'tab:blue'\n",
    "ax2.set_ylabel('Dry Bulb Temp F', color=color)  # we already handled the x-label with ax1\n",
    "ax2.plot(wehSDGE1418['Dates'],wehSDGE1418['HourlyDryBulbTemperature'], color=color, alpha=0.5)   \n",
    "ax2.tick_params(axis='y', labelcolor=color)\n",
    "\n",
    "fig.tight_layout()\n",
    "plt.show()"
   ]
  },
  {
   "cell_type": "markdown",
   "metadata": {},
   "source": [
    "* __We see that the energy and temperature data tend to follow each other and seem to have some level of correlation betweem them.__\n",
    "\n",
    "\n",
    "* __We can see the correlations using seaborn regplots and also by using the scipy.stats.pearsonr function. The scipy.stats.pearsonr function returns the pearsonr coefficient and the pvalue of observing such coefficient if we were to assume that there was no correlation between the x and y data sets. Let's select a signifance level of 5%, and so if the pvalue is <5%, we will assume that the correlation coefficienct returned is significant.__"
   ]
  },
  {
   "cell_type": "code",
   "execution_count": 31,
   "metadata": {},
   "outputs": [
    {
     "data": {
      "image/png": "[encoded data removed]",
      "text/plain": [
       "<Figure size 864x504 with 1 Axes>"
      ]
     },
     "metadata": {},
     "output_type": "display_data"
    }
   ],
   "source": [
    "# Looking at distribution of temperature over the summer and winter seasons first\n",
    "for season in wehSDGE1418['season'].unique():\n",
    "    wehSDGE1418[wehSDGE1418['season']==season]['HourlyDryBulbTemperature'].\\\n",
    "    plot(kind='density', figsize=(12,7), legend=True, label=season)"
   ]
  },
  {
   "cell_type": "markdown",
   "metadata": {},
   "source": [
    "__The temperature distribution looks neat and makes us realize why San Diego is known for its pleasant weather.__"
   ]
  },
  {
   "cell_type": "code",
   "execution_count": 34,
   "metadata": {},
   "outputs": [
    {
     "data": {
      "text/plain": [
       "<matplotlib.axes._subplots.AxesSubplot at 0x1f349069828>"
      ]
     },
     "execution_count": 34,
     "metadata": {},
     "output_type": "execute_result"
    },
    {
     "data": {
      "image/png": "[encoded data removed]",
      "text/plain": [
       "<Figure size 864x504 with 1 Axes>"
      ]
     },
     "metadata": {},
     "output_type": "display_data"
    }
   ],
   "source": [
    "# Plotting the linear regression plot between the energy consumption and temperature\n",
    "plt.figure(figsize=(12,7))\n",
    "sns.regplot( x= 'SDGE', y= 'HourlyDryBulbTemperature' , data= \\\n",
    "            wehSDGE1418[(wehSDGE1418['season']=='summer') & (wehSDGE1418['hour'].isin(np.arange(0,23)))]) "
   ]
  },
  {
   "cell_type": "markdown",
   "metadata": {},
   "source": [
    "__There seems to be a pretty decent correlation between the energy consumption and the temperature which is expected because high heat calls out for more air conditioning and refrigeration loads.__"
   ]
  },
  {
   "cell_type": "code",
   "execution_count": 35,
   "metadata": {},
   "outputs": [
    {
     "data": {
      "text/plain": [
       "(0.5746215681808322, 0.0)"
      ]
     },
     "execution_count": 35,
     "metadata": {},
     "output_type": "execute_result"
    }
   ],
   "source": [
    "# Let's calculate the pearsonr coefficient between the energy and temperature\n",
    "scipy.stats.pearsonr(wehSDGE1418['SDGE'], wehSDGE1418['HourlyDryBulbTemperature'])"
   ]
  },
  {
   "cell_type": "markdown",
   "metadata": {},
   "source": [
    "__So the correlation between the energy consumption and the temperature is positive and also since the pvalue is almost 0, the result is not a result of a random chance.__"
   ]
  },
  {
   "cell_type": "code",
   "execution_count": 36,
   "metadata": {},
   "outputs": [
    {
     "name": "stdout",
     "output_type": "stream",
     "text": [
      "pearson correlation coefficient and pvalue for winter 0.3205585523995764 0.0\n",
      "pearson correlation coefficient and pvalue for summer 0.650039994883929 0.0\n"
     ]
    }
   ],
   "source": [
    "# Calculating the same pearson coefficient for winter and summer seasons to check the assumption that the summer season will\n",
    "# havea  higher correlation due to higher cooling loads calling out for higher energy consumption\n",
    "for season in wehSDGE1418['season'].unique():\n",
    "    corrcoef, pvalue = scipy.stats.pearsonr(wehSDGE1418[wehSDGE1418['season']==season]['SDGE'], \\\n",
    "                                            wehSDGE1418[wehSDGE1418['season']==season]['HourlyDryBulbTemperature'])\n",
    "    print('pearson correlation coefficient and pvalue for '+season, corrcoef, pvalue)"
   ]
  },
  {
   "cell_type": "markdown",
   "metadata": {},
   "source": [
    "__As expected the correlation coefficient for summer is higher than that for the winter (almost twice).__"
   ]
  },
  {
   "cell_type": "code",
   "execution_count": 38,
   "metadata": {},
   "outputs": [],
   "source": [
    "# Checking the same correlation coefficient but restricting the hours to sunlight hours\n",
    "\n",
    "#for season in wehSDGE1418['season'].unique():\n",
    "#    corrcoef, pvalue = scipy.stats.pearsonr(wehSDGE1418[(wehSDGE1418['season']==season) & \\\n",
    "#                                                        (wehSDGE1418['hour'].isin(np.arange(12, 16)))]\\\n",
    "#                                            ['SDGE'], \\\n",
    "#                                            wehSDGE1418[(wehSDGE1418['season']==season) & \\\n",
    "#                                                        (wehSDGE1418['hour'].isin(np.arange(12,16)))]\\\n",
    "#                                            ['HourlyDryBulbTemperature'])\n",
    "#    print('pearson correlation coefficient and pvalue for '+season, corrcoef, pvalue)"
   ]
  },
  {
   "cell_type": "markdown",
   "metadata": {},
   "source": [
    "#### As observed in the 'Capstone_SDGE_hourly_energy_data_exploration.ipynb' notebook, the energy consumption for daylight hours seems to have decreased from 2014 to 2018. Now, this can be due to sricter energy efficiency measures being mandated, or increase of incentives for different categories of ratepayers (residential, commercial, agriculture, etc.) to install self-generation resources like solar, wind, etc. and/or energy storage in their premises to avoid the peak loads. \n",
    "\n",
    "* __ It was observed that the energy consumption decrease over the years is more dominant over the daylight hours, so we can test the theory that maybe solar capacity installed in the utility region has increased over the years, which it has as we will see below.__\n",
    "\n",
    "* __ The solar installations data was imported from https://www.californiadgstats.ca.gov/downloads/ -> 'NEM Currently Interconnected Data Set'. This dataset contains a lots of parameters like, the approval date which represents the date when the system was conneceted to the grid, 'System Size AC' which represents the total kW power in AC of the solar panels installed at a site. To get more details about the data, one can check the NEM_CurrentlyInterconnectedDataKey.b29667e204f3.xlsx workbook in the repo."
   ]
  },
  {
   "cell_type": "code",
   "execution_count": 39,
   "metadata": {},
   "outputs": [
    {
     "name": "stderr",
     "output_type": "stream",
     "text": [
      "C:\\Users\\ppawar\\AppData\\Local\\Continuum\\anaconda3\\lib\\site-packages\\IPython\\core\\interactiveshell.py:2785: DtypeWarning: Columns (10,11,12,13,20,25,26,27,28,29,30,32,33,34,37,38,45,46,48,49,51,52,54,55,57,58,60,61,63,64,66,67,69,70,72,73,75,76,78,79,81,82,84,85,87,88,90,91,96,97,99,100,102,103,105,106,108,109,111,112,114,115,117,118,120,121,123,124,126,127,129,130,132,133,135,136,138,139,141,142,144,145,147,148,150,151,153,154,156,157,159,160,162,163,165,166,168,169,171,172,174,175,177,178) have mixed types. Specify dtype option on import or set low_memory=False.\n",
      "  interactivity=interactivity, compiler=compiler, result=result)\n"
     ]
    },
    {
     "data": {
      "text/html": [
       "<div>\n",
       "<style scoped>\n",
       "    .dataframe tbody tr th:only-of-type {\n",
       "        vertical-align: middle;\n",
       "    }\n",
       "\n",
       "    .dataframe tbody tr th {\n",
       "        vertical-align: top;\n",
       "    }\n",
       "\n",
       "    .dataframe thead th {\n",
       "        text-align: right;\n",
       "    }\n",
       "</style>\n",
       "<table border=\"1\" class=\"dataframe\">\n",
       "  <thead>\n",
       "    <tr style=\"text-align: right;\">\n",
       "      <th></th>\n",
       "      <th>Application Id</th>\n",
       "      <th>Matched CSI Application Number</th>\n",
       "      <th>Application Status</th>\n",
       "      <th>Utility</th>\n",
       "      <th>Service City</th>\n",
       "      <th>Service Zip</th>\n",
       "      <th>Service County</th>\n",
       "      <th>Technology Type</th>\n",
       "      <th>System Size DC</th>\n",
       "      <th>System Size AC</th>\n",
       "      <th>...</th>\n",
       "      <th>Inverter Quantity 26</th>\n",
       "      <th>Inverter Model 27</th>\n",
       "      <th>Inverter Manufacturer 27</th>\n",
       "      <th>Inverter Quantity 27</th>\n",
       "      <th>Inverter Model 28</th>\n",
       "      <th>Inverter Manufacturer 28</th>\n",
       "      <th>Inverter Quantity 28</th>\n",
       "      <th>Inverter Model 29</th>\n",
       "      <th>Inverter Manufacturer 29</th>\n",
       "      <th>Inverter Quantity 29</th>\n",
       "    </tr>\n",
       "  </thead>\n",
       "  <tbody>\n",
       "    <tr>\n",
       "      <th>0</th>\n",
       "      <td>PGE-INT-106960619</td>\n",
       "      <td>PGE-CSI-05317</td>\n",
       "      <td>Interconnected</td>\n",
       "      <td>PGE</td>\n",
       "      <td>SAN FRANCISCO</td>\n",
       "      <td>94107.0</td>\n",
       "      <td>SAN FRANCISCO</td>\n",
       "      <td>Solar PV</td>\n",
       "      <td>2.670</td>\n",
       "      <td>2.510</td>\n",
       "      <td>...</td>\n",
       "      <td>NaN</td>\n",
       "      <td>NaN</td>\n",
       "      <td>NaN</td>\n",
       "      <td>NaN</td>\n",
       "      <td>NaN</td>\n",
       "      <td>NaN</td>\n",
       "      <td>NaN</td>\n",
       "      <td>NaN</td>\n",
       "      <td>NaN</td>\n",
       "      <td>NaN</td>\n",
       "    </tr>\n",
       "    <tr>\n",
       "      <th>1</th>\n",
       "      <td>PGE-INT-106960688</td>\n",
       "      <td>PGE-CSI-22814</td>\n",
       "      <td>Interconnected</td>\n",
       "      <td>PGE</td>\n",
       "      <td>UNION CITY</td>\n",
       "      <td>94587.0</td>\n",
       "      <td>ALAMEDA</td>\n",
       "      <td>Solar PV</td>\n",
       "      <td>133.069</td>\n",
       "      <td>127.747</td>\n",
       "      <td>...</td>\n",
       "      <td>NaN</td>\n",
       "      <td>NaN</td>\n",
       "      <td>NaN</td>\n",
       "      <td>NaN</td>\n",
       "      <td>NaN</td>\n",
       "      <td>NaN</td>\n",
       "      <td>NaN</td>\n",
       "      <td>NaN</td>\n",
       "      <td>NaN</td>\n",
       "      <td>NaN</td>\n",
       "    </tr>\n",
       "    <tr>\n",
       "      <th>2</th>\n",
       "      <td>PGE-INT-106960698</td>\n",
       "      <td>NaN</td>\n",
       "      <td>Interconnected</td>\n",
       "      <td>PGE</td>\n",
       "      <td>SAN FRANCISCO</td>\n",
       "      <td>94127.0</td>\n",
       "      <td>SAN FRANCISCO</td>\n",
       "      <td>Solar PV</td>\n",
       "      <td>5.914</td>\n",
       "      <td>5.677</td>\n",
       "      <td>...</td>\n",
       "      <td>NaN</td>\n",
       "      <td>NaN</td>\n",
       "      <td>NaN</td>\n",
       "      <td>NaN</td>\n",
       "      <td>NaN</td>\n",
       "      <td>NaN</td>\n",
       "      <td>NaN</td>\n",
       "      <td>NaN</td>\n",
       "      <td>NaN</td>\n",
       "      <td>NaN</td>\n",
       "    </tr>\n",
       "    <tr>\n",
       "      <th>3</th>\n",
       "      <td>PGE-INT-111910270</td>\n",
       "      <td>NaN</td>\n",
       "      <td>Interconnected</td>\n",
       "      <td>PGE</td>\n",
       "      <td>Woodland</td>\n",
       "      <td>95776.0</td>\n",
       "      <td>Yolo</td>\n",
       "      <td>Solar PV</td>\n",
       "      <td>2314.752</td>\n",
       "      <td>2268.457</td>\n",
       "      <td>...</td>\n",
       "      <td>NaN</td>\n",
       "      <td>NaN</td>\n",
       "      <td>NaN</td>\n",
       "      <td>NaN</td>\n",
       "      <td>NaN</td>\n",
       "      <td>NaN</td>\n",
       "      <td>NaN</td>\n",
       "      <td>NaN</td>\n",
       "      <td>NaN</td>\n",
       "      <td>NaN</td>\n",
       "    </tr>\n",
       "    <tr>\n",
       "      <th>4</th>\n",
       "      <td>PGE-INT-111911601</td>\n",
       "      <td>NaN</td>\n",
       "      <td>Interconnected</td>\n",
       "      <td>PGE</td>\n",
       "      <td>SHAFTER</td>\n",
       "      <td>93263.0</td>\n",
       "      <td>KERN</td>\n",
       "      <td>Solar PV</td>\n",
       "      <td>1909.670</td>\n",
       "      <td>1871.477</td>\n",
       "      <td>...</td>\n",
       "      <td>NaN</td>\n",
       "      <td>NaN</td>\n",
       "      <td>NaN</td>\n",
       "      <td>NaN</td>\n",
       "      <td>NaN</td>\n",
       "      <td>NaN</td>\n",
       "      <td>NaN</td>\n",
       "      <td>NaN</td>\n",
       "      <td>NaN</td>\n",
       "      <td>NaN</td>\n",
       "    </tr>\n",
       "  </tbody>\n",
       "</table>\n",
       "<p>5 rows × 180 columns</p>\n",
       "</div>"
      ],
      "text/plain": [
       "      Application Id Matched CSI Application Number Application Status  \\\n",
       "0  PGE-INT-106960619                  PGE-CSI-05317     Interconnected   \n",
       "1  PGE-INT-106960688                  PGE-CSI-22814     Interconnected   \n",
       "2  PGE-INT-106960698                            NaN     Interconnected   \n",
       "3  PGE-INT-111910270                            NaN     Interconnected   \n",
       "4  PGE-INT-111911601                            NaN     Interconnected   \n",
       "\n",
       "  Utility   Service City  Service Zip Service County Technology Type  \\\n",
       "0     PGE  SAN FRANCISCO      94107.0  SAN FRANCISCO        Solar PV   \n",
       "1     PGE     UNION CITY      94587.0        ALAMEDA        Solar PV   \n",
       "2     PGE  SAN FRANCISCO      94127.0  SAN FRANCISCO        Solar PV   \n",
       "3     PGE       Woodland      95776.0           Yolo        Solar PV   \n",
       "4     PGE        SHAFTER      93263.0           KERN        Solar PV   \n",
       "\n",
       "   System Size DC  System Size AC  ... Inverter Quantity 26 Inverter Model 27  \\\n",
       "0           2.670           2.510  ...                  NaN               NaN   \n",
       "1         133.069         127.747  ...                  NaN               NaN   \n",
       "2           5.914           5.677  ...                  NaN               NaN   \n",
       "3        2314.752        2268.457  ...                  NaN               NaN   \n",
       "4        1909.670        1871.477  ...                  NaN               NaN   \n",
       "\n",
       "  Inverter Manufacturer 27 Inverter Quantity 27 Inverter Model 28  \\\n",
       "0                      NaN                  NaN               NaN   \n",
       "1                      NaN                  NaN               NaN   \n",
       "2                      NaN                  NaN               NaN   \n",
       "3                      NaN                  NaN               NaN   \n",
       "4                      NaN                  NaN               NaN   \n",
       "\n",
       "  Inverter Manufacturer 28 Inverter Quantity 28 Inverter Model 29  \\\n",
       "0                      NaN                  NaN               NaN   \n",
       "1                      NaN                  NaN               NaN   \n",
       "2                      NaN                  NaN               NaN   \n",
       "3                      NaN                  NaN               NaN   \n",
       "4                      NaN                  NaN               NaN   \n",
       "\n",
       "  Inverter Manufacturer 29 Inverter Quantity 29  \n",
       "0                      NaN                  NaN  \n",
       "1                      NaN                  NaN  \n",
       "2                      NaN                  NaN  \n",
       "3                      NaN                  NaN  \n",
       "4                      NaN                  NaN  \n",
       "\n",
       "[5 rows x 180 columns]"
      ]
     },
     "execution_count": 39,
     "metadata": {},
     "output_type": "execute_result"
    }
   ],
   "source": [
    "# importing solar installations data from https://www.californiadgstats.ca.gov/downloads/NEM Currently Interconnected Data Set\n",
    "nemsolar = pd.read_csv('NEM_CurrentlyInterconnectedDataset_2019-03-31.csv')\n",
    "nemsolar.head()"
   ]
  },
  {
   "cell_type": "code",
   "execution_count": 40,
   "metadata": {},
   "outputs": [],
   "source": [
    "# Keeping only the relevant columns\n",
    "nemsolar = nemsolar [['Application Id','Matched CSI Application Number',  'Application Status', \\\n",
    "                      'Utility', 'Service City', 'Service Zip', 'Service County', 'System Size AC', \\\n",
    "                      'App Approved Date',  'Electric Vehicle', 'Electric Vehicle Count']]"
   ]
  },
  {
   "cell_type": "code",
   "execution_count": 41,
   "metadata": {},
   "outputs": [
    {
     "data": {
      "text/plain": [
       "array(['PGE', 'SCE', 'SDGE', nan], dtype=object)"
      ]
     },
     "execution_count": 41,
     "metadata": {},
     "output_type": "execute_result"
    }
   ],
   "source": [
    "nemsolar.Utility.unique()"
   ]
  },
  {
   "cell_type": "code",
   "execution_count": 42,
   "metadata": {},
   "outputs": [],
   "source": [
    "# We are dealing with the energy data of SDGE only, so extract SDGE's data\n",
    "nemsolarSDGE = nemsolar[nemsolar['Utility']== 'SDGE']"
   ]
  },
  {
   "cell_type": "code",
   "execution_count": 43,
   "metadata": {},
   "outputs": [
    {
     "name": "stdout",
     "output_type": "stream",
     "text": [
      "<class 'pandas.core.frame.DataFrame'>\n",
      "Int64Index: 149779 entries, 715617 to 865395\n",
      "Data columns (total 11 columns):\n",
      "Application Id                    149779 non-null object\n",
      "Matched CSI Application Number    16902 non-null object\n",
      "Application Status                149779 non-null object\n",
      "Utility                           149779 non-null object\n",
      "Service City                      149779 non-null object\n",
      "Service Zip                       149779 non-null float64\n",
      "Service County                    149779 non-null object\n",
      "System Size AC                    149779 non-null float64\n",
      "App Approved Date                 149779 non-null object\n",
      "Electric Vehicle                  128608 non-null object\n",
      "Electric Vehicle Count            98110 non-null float64\n",
      "dtypes: float64(3), object(8)\n",
      "memory usage: 13.7+ MB\n"
     ]
    }
   ],
   "source": [
    "nemsolarSDGE.info()"
   ]
  },
  {
   "cell_type": "code",
   "execution_count": 44,
   "metadata": {},
   "outputs": [],
   "source": [
    "# It's good to have the above data if in the future we decide to use the county or zipcode information but for now, let's\n",
    "# focus on the approved date, i.e. the date the system was allowed by SDGE to start operation), and 'System Size AC', i.e. the \n",
    "# installed system capacity of the solar panels in kW\n",
    "SDGEPV = nemsolarSDGE[['App Approved Date','System Size AC']]"
   ]
  },
  {
   "cell_type": "code",
   "execution_count": 45,
   "metadata": {},
   "outputs": [],
   "source": [
    "SDGEPV = SDGEPV.rename({'App Approved Date': 'date_approved','System Size AC':'AC_kW' }, axis='columns').reset_index()"
   ]
  },
  {
   "cell_type": "code",
   "execution_count": 46,
   "metadata": {},
   "outputs": [],
   "source": [
    "SDGEPV['date_approved'] = pd.to_datetime(SDGEPV['date_approved'])"
   ]
  },
  {
   "cell_type": "code",
   "execution_count": 47,
   "metadata": {},
   "outputs": [
    {
     "name": "stdout",
     "output_type": "stream",
     "text": [
      "<class 'pandas.core.frame.DataFrame'>\n",
      "RangeIndex: 149779 entries, 0 to 149778\n",
      "Data columns (total 3 columns):\n",
      "index            149779 non-null int64\n",
      "date_approved    149779 non-null datetime64[ns]\n",
      "AC_kW            149779 non-null float64\n",
      "dtypes: datetime64[ns](1), float64(1), int64(1)\n",
      "memory usage: 3.4 MB\n"
     ]
    }
   ],
   "source": [
    "SDGEPV.info()"
   ]
  },
  {
   "cell_type": "code",
   "execution_count": 48,
   "metadata": {},
   "outputs": [],
   "source": [
    "SDGEPV = SDGEPV.set_index('date_approved').sort_index()\n",
    "del SDGEPV['index']"
   ]
  },
  {
   "cell_type": "code",
   "execution_count": 49,
   "metadata": {},
   "outputs": [
    {
     "data": {
      "text/html": [
       "<div>\n",
       "<style scoped>\n",
       "    .dataframe tbody tr th:only-of-type {\n",
       "        vertical-align: middle;\n",
       "    }\n",
       "\n",
       "    .dataframe tbody tr th {\n",
       "        vertical-align: top;\n",
       "    }\n",
       "\n",
       "    .dataframe thead th {\n",
       "        text-align: right;\n",
       "    }\n",
       "</style>\n",
       "<table border=\"1\" class=\"dataframe\">\n",
       "  <thead>\n",
       "    <tr style=\"text-align: right;\">\n",
       "      <th></th>\n",
       "      <th>AC_kW</th>\n",
       "    </tr>\n",
       "    <tr>\n",
       "      <th>date_approved</th>\n",
       "      <th></th>\n",
       "    </tr>\n",
       "  </thead>\n",
       "  <tbody>\n",
       "    <tr>\n",
       "      <th>1999-01-20</th>\n",
       "      <td>2.5</td>\n",
       "    </tr>\n",
       "    <tr>\n",
       "      <th>1999-03-30</th>\n",
       "      <td>2.0</td>\n",
       "    </tr>\n",
       "    <tr>\n",
       "      <th>1999-08-06</th>\n",
       "      <td>4.0</td>\n",
       "    </tr>\n",
       "    <tr>\n",
       "      <th>1999-08-30</th>\n",
       "      <td>1.5</td>\n",
       "    </tr>\n",
       "    <tr>\n",
       "      <th>1999-08-31</th>\n",
       "      <td>4.0</td>\n",
       "    </tr>\n",
       "  </tbody>\n",
       "</table>\n",
       "</div>"
      ],
      "text/plain": [
       "               AC_kW\n",
       "date_approved       \n",
       "1999-01-20       2.5\n",
       "1999-03-30       2.0\n",
       "1999-08-06       4.0\n",
       "1999-08-30       1.5\n",
       "1999-08-31       4.0"
      ]
     },
     "execution_count": 49,
     "metadata": {},
     "output_type": "execute_result"
    }
   ],
   "source": [
    "SDGEPV.head()"
   ]
  },
  {
   "cell_type": "code",
   "execution_count": 50,
   "metadata": {},
   "outputs": [
    {
     "data": {
      "text/html": [
       "<div>\n",
       "<style scoped>\n",
       "    .dataframe tbody tr th:only-of-type {\n",
       "        vertical-align: middle;\n",
       "    }\n",
       "\n",
       "    .dataframe tbody tr th {\n",
       "        vertical-align: top;\n",
       "    }\n",
       "\n",
       "    .dataframe thead th {\n",
       "        text-align: right;\n",
       "    }\n",
       "</style>\n",
       "<table border=\"1\" class=\"dataframe\">\n",
       "  <thead>\n",
       "    <tr style=\"text-align: right;\">\n",
       "      <th></th>\n",
       "      <th>AC_kW</th>\n",
       "    </tr>\n",
       "    <tr>\n",
       "      <th>date_approved</th>\n",
       "      <th></th>\n",
       "    </tr>\n",
       "  </thead>\n",
       "  <tbody>\n",
       "    <tr>\n",
       "      <th>1999-01-20</th>\n",
       "      <td>2.5</td>\n",
       "    </tr>\n",
       "    <tr>\n",
       "      <th>1999-03-30</th>\n",
       "      <td>2.0</td>\n",
       "    </tr>\n",
       "    <tr>\n",
       "      <th>1999-08-06</th>\n",
       "      <td>4.0</td>\n",
       "    </tr>\n",
       "    <tr>\n",
       "      <th>1999-08-30</th>\n",
       "      <td>1.5</td>\n",
       "    </tr>\n",
       "    <tr>\n",
       "      <th>1999-08-31</th>\n",
       "      <td>4.0</td>\n",
       "    </tr>\n",
       "  </tbody>\n",
       "</table>\n",
       "</div>"
      ],
      "text/plain": [
       "               AC_kW\n",
       "date_approved       \n",
       "1999-01-20       2.5\n",
       "1999-03-30       2.0\n",
       "1999-08-06       4.0\n",
       "1999-08-30       1.5\n",
       "1999-08-31       4.0"
      ]
     },
     "execution_count": 50,
     "metadata": {},
     "output_type": "execute_result"
    }
   ],
   "source": [
    "# Using groupby to sum the system size installed for each day\n",
    "SDGEPV = SDGEPV.reset_index()\n",
    "SDGEPVM = SDGEPV.groupby('date_approved').sum()\n",
    "SDGEPVM.head()"
   ]
  },
  {
   "cell_type": "code",
   "execution_count": 51,
   "metadata": {},
   "outputs": [],
   "source": [
    "# using a cumulative of the system size, since this is what we are interested in. We want to see how the total solar capacity\n",
    "# in the region increased overall\n",
    "SDGEPVM['cum_AC_kW'] = SDGEPVM['AC_kW'].cumsum()"
   ]
  },
  {
   "cell_type": "code",
   "execution_count": null,
   "metadata": {},
   "outputs": [],
   "source": []
  },
  {
   "cell_type": "code",
   "execution_count": 52,
   "metadata": {},
   "outputs": [],
   "source": [
    "# Truncating the PV installation data to the min and max dates limits of the 'weather+energy' data-wehSDGE1418 and storing it\n",
    "# as SDGEPVM\n",
    "SDGEPVM = SDGEPVM.loc[wehSDGE1418.Date.min():wehSDGE1418.Date.max(), ['AC_kW','cum_AC_kW']].reset_index()"
   ]
  },
  {
   "cell_type": "code",
   "execution_count": null,
   "metadata": {},
   "outputs": [],
   "source": []
  },
  {
   "cell_type": "code",
   "execution_count": 53,
   "metadata": {},
   "outputs": [],
   "source": [
    "# Creating a dataframe df by merging the wehSDGE1418 and SDGEPVM datasets using merge on the wehSDGE1418 dataframe\n",
    "# because we don't want to disturb the indices of out original energy dataset.\n",
    "df = pd.merge(wehSDGE1418, SDGEPVM, left_on = 'Date', right_on = 'date_approved', how = 'left')"
   ]
  },
  {
   "cell_type": "code",
   "execution_count": 54,
   "metadata": {},
   "outputs": [],
   "source": [
    "# dropping duplicate date columns\n",
    "df.drop(['DATE', 'date_approved'], axis=1, inplace=True)"
   ]
  },
  {
   "cell_type": "code",
   "execution_count": 55,
   "metadata": {},
   "outputs": [
    {
     "data": {
      "text/html": [
       "<div>\n",
       "<style scoped>\n",
       "    .dataframe tbody tr th:only-of-type {\n",
       "        vertical-align: middle;\n",
       "    }\n",
       "\n",
       "    .dataframe tbody tr th {\n",
       "        vertical-align: top;\n",
       "    }\n",
       "\n",
       "    .dataframe thead th {\n",
       "        text-align: right;\n",
       "    }\n",
       "</style>\n",
       "<table border=\"1\" class=\"dataframe\">\n",
       "  <thead>\n",
       "    <tr style=\"text-align: right;\">\n",
       "      <th></th>\n",
       "      <th>Dates</th>\n",
       "      <th>SDGE</th>\n",
       "      <th>Date</th>\n",
       "      <th>year</th>\n",
       "      <th>month</th>\n",
       "      <th>day</th>\n",
       "      <th>hour</th>\n",
       "      <th>weekday</th>\n",
       "      <th>season</th>\n",
       "      <th>holiday</th>\n",
       "      <th>non_working</th>\n",
       "      <th>STATION</th>\n",
       "      <th>DailyCoolingDegreeDays</th>\n",
       "      <th>DailyHeatingDegreeDays</th>\n",
       "      <th>HourlyDryBulbTemperature</th>\n",
       "      <th>AC_kW</th>\n",
       "      <th>cum_AC_kW</th>\n",
       "    </tr>\n",
       "  </thead>\n",
       "  <tbody>\n",
       "    <tr>\n",
       "      <th>0</th>\n",
       "      <td>2014-01-01 00:00:00</td>\n",
       "      <td>2096.0</td>\n",
       "      <td>2014-01-01</td>\n",
       "      <td>2014</td>\n",
       "      <td>1</td>\n",
       "      <td>1</td>\n",
       "      <td>0</td>\n",
       "      <td>Wednesday</td>\n",
       "      <td>winter</td>\n",
       "      <td>1</td>\n",
       "      <td>1</td>\n",
       "      <td>72290023188</td>\n",
       "      <td>0.0</td>\n",
       "      <td>7.0</td>\n",
       "      <td>51.0</td>\n",
       "      <td>NaN</td>\n",
       "      <td>NaN</td>\n",
       "    </tr>\n",
       "    <tr>\n",
       "      <th>1</th>\n",
       "      <td>2014-01-01 01:00:00</td>\n",
       "      <td>1986.0</td>\n",
       "      <td>2014-01-01</td>\n",
       "      <td>2014</td>\n",
       "      <td>1</td>\n",
       "      <td>1</td>\n",
       "      <td>1</td>\n",
       "      <td>Wednesday</td>\n",
       "      <td>winter</td>\n",
       "      <td>1</td>\n",
       "      <td>1</td>\n",
       "      <td>72290023188</td>\n",
       "      <td>0.0</td>\n",
       "      <td>7.0</td>\n",
       "      <td>51.5</td>\n",
       "      <td>NaN</td>\n",
       "      <td>NaN</td>\n",
       "    </tr>\n",
       "    <tr>\n",
       "      <th>2</th>\n",
       "      <td>2014-01-01 02:00:00</td>\n",
       "      <td>1936.0</td>\n",
       "      <td>2014-01-01</td>\n",
       "      <td>2014</td>\n",
       "      <td>1</td>\n",
       "      <td>1</td>\n",
       "      <td>2</td>\n",
       "      <td>Wednesday</td>\n",
       "      <td>winter</td>\n",
       "      <td>1</td>\n",
       "      <td>1</td>\n",
       "      <td>72290023188</td>\n",
       "      <td>0.0</td>\n",
       "      <td>7.0</td>\n",
       "      <td>51.8</td>\n",
       "      <td>NaN</td>\n",
       "      <td>NaN</td>\n",
       "    </tr>\n",
       "    <tr>\n",
       "      <th>3</th>\n",
       "      <td>2014-01-01 03:00:00</td>\n",
       "      <td>1896.0</td>\n",
       "      <td>2014-01-01</td>\n",
       "      <td>2014</td>\n",
       "      <td>1</td>\n",
       "      <td>1</td>\n",
       "      <td>3</td>\n",
       "      <td>Wednesday</td>\n",
       "      <td>winter</td>\n",
       "      <td>1</td>\n",
       "      <td>1</td>\n",
       "      <td>72290023188</td>\n",
       "      <td>0.0</td>\n",
       "      <td>7.0</td>\n",
       "      <td>50.0</td>\n",
       "      <td>NaN</td>\n",
       "      <td>NaN</td>\n",
       "    </tr>\n",
       "    <tr>\n",
       "      <th>4</th>\n",
       "      <td>2014-01-01 04:00:00</td>\n",
       "      <td>1899.0</td>\n",
       "      <td>2014-01-01</td>\n",
       "      <td>2014</td>\n",
       "      <td>1</td>\n",
       "      <td>1</td>\n",
       "      <td>4</td>\n",
       "      <td>Wednesday</td>\n",
       "      <td>winter</td>\n",
       "      <td>1</td>\n",
       "      <td>1</td>\n",
       "      <td>72290023188</td>\n",
       "      <td>0.0</td>\n",
       "      <td>7.0</td>\n",
       "      <td>48.8</td>\n",
       "      <td>NaN</td>\n",
       "      <td>NaN</td>\n",
       "    </tr>\n",
       "  </tbody>\n",
       "</table>\n",
       "</div>"
      ],
      "text/plain": [
       "                Dates    SDGE       Date  year  month  day  hour    weekday  \\\n",
       "0 2014-01-01 00:00:00  2096.0 2014-01-01  2014      1    1     0  Wednesday   \n",
       "1 2014-01-01 01:00:00  1986.0 2014-01-01  2014      1    1     1  Wednesday   \n",
       "2 2014-01-01 02:00:00  1936.0 2014-01-01  2014      1    1     2  Wednesday   \n",
       "3 2014-01-01 03:00:00  1896.0 2014-01-01  2014      1    1     3  Wednesday   \n",
       "4 2014-01-01 04:00:00  1899.0 2014-01-01  2014      1    1     4  Wednesday   \n",
       "\n",
       "   season  holiday  non_working      STATION  DailyCoolingDegreeDays  \\\n",
       "0  winter        1            1  72290023188                     0.0   \n",
       "1  winter        1            1  72290023188                     0.0   \n",
       "2  winter        1            1  72290023188                     0.0   \n",
       "3  winter        1            1  72290023188                     0.0   \n",
       "4  winter        1            1  72290023188                     0.0   \n",
       "\n",
       "   DailyHeatingDegreeDays  HourlyDryBulbTemperature  AC_kW  cum_AC_kW  \n",
       "0                     7.0                      51.0    NaN        NaN  \n",
       "1                     7.0                      51.5    NaN        NaN  \n",
       "2                     7.0                      51.8    NaN        NaN  \n",
       "3                     7.0                      50.0    NaN        NaN  \n",
       "4                     7.0                      48.8    NaN        NaN  "
      ]
     },
     "execution_count": 55,
     "metadata": {},
     "output_type": "execute_result"
    }
   ],
   "source": [
    "df.head()"
   ]
  },
  {
   "cell_type": "code",
   "execution_count": 58,
   "metadata": {},
   "outputs": [
    {
     "data": {
      "text/plain": [
       "Dates                           0\n",
       "SDGE                            0\n",
       "Date                            0\n",
       "year                            0\n",
       "month                           0\n",
       "day                             0\n",
       "hour                            0\n",
       "weekday                         0\n",
       "season                          0\n",
       "holiday                         0\n",
       "non_working                     0\n",
       "STATION                         0\n",
       "DailyCoolingDegreeDays          0\n",
       "DailyHeatingDegreeDays          0\n",
       "HourlyDryBulbTemperature        0\n",
       "AC_kW                       12264\n",
       "cum_AC_kW                   12264\n",
       "dtype: int64"
      ]
     },
     "execution_count": 58,
     "metadata": {},
     "output_type": "execute_result"
    }
   ],
   "source": [
    "df.isna().sum()"
   ]
  },
  {
   "cell_type": "code",
   "execution_count": 59,
   "metadata": {},
   "outputs": [],
   "source": [
    "# Since, not everyday solar panels were installed, the SDGEPVM dataframe didn't have all the rows as our energy dataframe\n",
    "# wehSDGE1418 which resulted in missing values in the AC_kW and cum_AC_kW columns\n",
    "\n",
    "# We don't need to change the AC_kW columns for now, we can just put a 0 in place of NaN to indicate 0 installations for that \n",
    "# day but not focusing on that for now.\n",
    "\n",
    "#Since the cumulative installed solar system size should remain same until the next non-na value is \n",
    "# encountered, using forward fill method to fill the cum_AC_kW  column\n",
    "df['cum_AC_kW'] = df['cum_AC_kW'].fillna(method='ffill')"
   ]
  },
  {
   "cell_type": "code",
   "execution_count": 60,
   "metadata": {},
   "outputs": [],
   "source": [
    "# Forward fill worked on all the rows except the first few rows because the data for SDGEPVM didn't start at 2014-01-01 00:00;\n",
    "# so, we can use backfill here to fill in the first few missing values\n",
    "df['cum_AC_kW'] = df['cum_AC_kW'].fillna(method='bfill')"
   ]
  },
  {
   "cell_type": "code",
   "execution_count": 61,
   "metadata": {},
   "outputs": [],
   "source": [
    "SDGE_t_pv = df.set_index('Dates')"
   ]
  },
  {
   "cell_type": "code",
   "execution_count": 65,
   "metadata": {},
   "outputs": [
    {
     "data": {
      "image/png": "[encoded data removed]",
      "text/plain": [
       "<Figure size 720x360 with 1 Axes>"
      ]
     },
     "metadata": {},
     "output_type": "display_data"
    }
   ],
   "source": [
    "_ = SDGE_t_pv.cum_AC_kW.plot(figsize=(10,5))\n",
    "_ = plt.legend()\n",
    "_ = plt.title('Solar installed capacity in SDGE territory from 2014 to 2018')"
   ]
  },
  {
   "cell_type": "markdown",
   "metadata": {},
   "source": [
    "__There was a considerable increase in the solar installations in the SDGE territory over the past 5 years and the installed capacity reached the 1MW mark at the end of 2018.__"
   ]
  },
  {
   "cell_type": "markdown",
   "metadata": {},
   "source": [
    "* __Let's calculate the pearson correlation coefficient between the energy consumption and installed PV capacity (restricting the hours to peak sunlight hours, roughy 9am to 5pm).__"
   ]
  },
  {
   "cell_type": "code",
   "execution_count": 76,
   "metadata": {},
   "outputs": [
    {
     "name": "stdout",
     "output_type": "stream",
     "text": [
      "pearson correlation coefficient and pvalue for winter -0.4671256412121683 0.0\n",
      "pearson correlation coefficient and pvalue for summer -0.30733178183400256 5.144315421511757e-134\n"
     ]
    }
   ],
   "source": [
    "daylight_hours = np.arange(9, 17)\n",
    "for season in SDGE_t_pv['season'].unique():\n",
    "    corrcoef, pvalue = scipy.stats.pearsonr(SDGE_t_pv[(SDGE_t_pv['season']==season) & \\\n",
    "                                                        (SDGE_t_pv['hour'].isin(daylight_hours))]\\\n",
    "                                            ['SDGE'], \\\n",
    "                                            SDGE_t_pv[(SDGE_t_pv['season']==season) & \\\n",
    "                                                        (SDGE_t_pv['hour'].isin(daylight_hours))]\\\n",
    "                                            ['cum_AC_kW'])\n",
    "    print('pearson correlation coefficient and pvalue for '+season, corrcoef, pvalue)"
   ]
  },
  {
   "cell_type": "markdown",
   "metadata": {},
   "source": [
    "* __The increased capacity in the solar installation has a negative correlation with the energy consumption as expected. And one would expect the correlation to be more in summer season instead of winter but most of the solar installations are south faced and in San Diego due to the latitude it would mean that the panels will face more sun during winter.__"
   ]
  },
  {
   "cell_type": "code",
   "execution_count": null,
   "metadata": {},
   "outputs": [],
   "source": []
  }
 ],
 "metadata": {
  "kernelspec": {
   "display_name": "Python 3",
   "language": "python",
   "name": "python3"
  },
  "language_info": {
   "codemirror_mode": {
    "name": "ipython",
    "version": 3
   },
   "file_extension": ".py",
   "mimetype": "text/x-python",
   "name": "python",
   "nbconvert_exporter": "python",
   "pygments_lexer": "ipython3",
   "version": "3.6.5"
  }
 },
 "nbformat": 4,
 "nbformat_minor": 2
}
